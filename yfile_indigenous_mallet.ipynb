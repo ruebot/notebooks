{
  "nbformat": 4,
  "nbformat_minor": 0,
  "metadata": {
    "colab": {
      "provenance": [],
      "collapsed_sections": [],
      "authorship_tag": "ABX9TyOdhkBO1NifrxlfUL/dgVdC",
      "include_colab_link": true
    },
    "kernelspec": {
      "name": "python3",
      "display_name": "Python 3"
    },
    "language_info": {
      "name": "python"
    }
  },
  "cells": [
    {
      "cell_type": "markdown",
      "metadata": {
        "id": "view-in-github",
        "colab_type": "text"
      },
      "source": [
        "<a href=\"https://colab.research.google.com/github/ruebot/notebooks/blob/main/yfile_indigenous_mallet.ipynb\" target=\"_parent\"><img src=\"https://colab.research.google.com/assets/colab-badge.svg\" alt=\"Open In Colab\"/></a>"
      ]
    },
    {
      "cell_type": "markdown",
      "source": [
        "Cribbed from https://melaniewalsh.github.io/Intro-Cultural-Analytics/05-Text-Analysis/09-Topic-Modeling-Without-Mallet.html"
      ],
      "metadata": {
        "id": "ReLKg9CbjeaC"
      }
    },
    {
      "cell_type": "code",
      "source": [
        "%%capture\n",
        "\n",
        "import os\n",
        "def install_java():\n",
        "  !apt-get install -y openjdk-8-jdk-headless -qq > /dev/null\n",
        "  os.environ[\"JAVA_HOME\"] = \"/usr/lib/jvm/java-8-openjdk-amd64\"\n",
        "  !java -version   \n",
        "install_java()\n",
        "\n",
        "!wget http://mallet.cs.umass.edu/dist/mallet-2.0.8.zip\n",
        "!unzip mallet-2.0.8.zip"
      ],
      "metadata": {
        "id": "gi6hRh5ceJHV"
      },
      "execution_count": 1,
      "outputs": []
    },
    {
      "cell_type": "code",
      "source": [
        "%%capture\n",
        "!pip install tomotopy\n",
        "!pip install little_mallet_wrapper\n",
        "!pip install seaborn\n",
        "!pip install git+https://github.com/maria-antoniak/little-mallet-wrapper.git"
      ],
      "metadata": {
        "id": "NvymXbqWM1Se"
      },
      "execution_count": 2,
      "outputs": []
    },
    {
      "cell_type": "code",
      "source": [
        "import tomotopy as tp\n",
        "import little_mallet_wrapper\n",
        "import seaborn\n",
        "import glob\n",
        "from pathlib import Path\n",
        "\n",
        "os.environ['MALLET_HOME'] = '/content/mallet-2.0.8'\n",
        "path_to_mallet = '/content/mallet-2.0.8/bin/mallet'"
      ],
      "metadata": {
        "id": "5W0jd5i6M4Hh"
      },
      "execution_count": 3,
      "outputs": []
    },
    {
      "cell_type": "code",
      "source": [
        "%%capture\n",
        "!wget https://www.dropbox.com/s/xp6uh7zhem32b0m/corpus.zip\n",
        "!unzip corpus.zip"
      ],
      "metadata": {
        "id": "9_Gzyr59M6dh"
      },
      "execution_count": 4,
      "outputs": []
    },
    {
      "cell_type": "code",
      "source": [
        "files = glob.glob(f\"corpus/*.txt\")"
      ],
      "metadata": {
        "id": "momPYnGoOkLn"
      },
      "execution_count": 5,
      "outputs": []
    },
    {
      "cell_type": "code",
      "source": [
        "import nltk\n",
        "from nltk.corpus import stopwords\n",
        "\n",
        "nltk.download(\"stopwords\")\n",
        "stopwords = nltk.corpus.stopwords.words('english')\n",
        "additional_stopwords = ['yfile', 'news', 'york', 'university', 'newsletter', 'editor', 'picks', 'subscribe', 'skip', 'content', 'latest','advancement', 'alumni', 'ampd', 'brainstorm', 'community', 'convocation', 'covid19', 'csbo', 'education', 'ee', 'emaillead', 'engineering', 'faculty', 'featured', 'fes', 'fgs', 'finearts', 'glendon', 'graduate', 'health', 'innovatus', 'international', 'laps', 'lassonde', 'libraries', 'lions', 'osgoode', 'president', 'research', 'schulich', 'science', 'senate', 'sports', 'staff', 'student', 'students', 'sustainability', 'teaching', 'teaching and learning', 'top stories', 'vpacademic', 'vpri', 'archives', 'awards', 'recognition', 'features', 'innovatus', 'innovation', 'special', 'issues', 'spotlight', 'issues', 'aifeatured', 'take', 'note', 'learning', 'scoop', 'focus', 'media', 'archive', 'home', 'scoop', 'upcoming', 'events', 'contact','share', 'keele', 'markham', 'campus', 'privacy', 'legal', 'u', 'recent', 'careers', 'accessibility', 'safety']\n",
        "stopwords.extend(additional_stopwords)"
      ],
      "metadata": {
        "id": "0Gm_wwCVdjJ5",
        "outputId": "0159815c-75c0-41c7-fddf-76ad2c041092",
        "colab": {
          "base_uri": "https://localhost:8080/"
        }
      },
      "execution_count": 13,
      "outputs": [
        {
          "output_type": "stream",
          "name": "stderr",
          "text": [
            "[nltk_data] Downloading package stopwords to /root/nltk_data...\n",
            "[nltk_data]   Unzipping corpora/stopwords.zip.\n"
          ]
        }
      ]
    },
    {
      "cell_type": "code",
      "source": [
        "training_data = []\n",
        "original_texts = []\n",
        "titles = []\n",
        "\n",
        "for file in files:\n",
        "    text = open(file, encoding='utf-8').read()\n",
        "    processed_text = little_mallet_wrapper.process_string(text, lowercase=True, remove_short_words=True, remove_stop_words=True, remove_punctuation=True, numbers='remove', stop_words=stopwords)\n",
        "    training_data.append(processed_text)\n",
        "    original_texts.append(text)\n",
        "    titles.append(Path(file).stem)"
      ],
      "metadata": {
        "id": "jJj9Lbi4OruC"
      },
      "execution_count": 14,
      "outputs": []
    },
    {
      "cell_type": "code",
      "source": [
        "len(training_data), len(original_texts), len(titles)"
      ],
      "metadata": {
        "colab": {
          "base_uri": "https://localhost:8080/"
        },
        "id": "7jjGkYu3Ox3L",
        "outputId": "1301f2cc-5461-4c9c-e9ee-9bdad8d64592"
      },
      "execution_count": 15,
      "outputs": [
        {
          "output_type": "execute_result",
          "data": {
            "text/plain": [
              "(599, 599, 599)"
            ]
          },
          "metadata": {},
          "execution_count": 15
        }
      ]
    },
    {
      "cell_type": "code",
      "source": [
        "# Number of topics to return\n",
        "num_topics = 10\n",
        "# Numer of topic words to print out\n",
        "num_topic_words = 5\n",
        "\n",
        "# Intialize the model\n",
        "model = tp.LDAModel(k=num_topics)\n",
        "\n",
        "# Add each document to the model, after splitting it up into words\n",
        "for text in training_data:\n",
        "    model.add_doc(text.strip().split())\n",
        "    \n",
        "print(\"Topic Model Training...\\n\\n\")\n",
        "# Iterate over the data 10 times\n",
        "iterations = 50\n",
        "for i in range(0, 100, iterations):\n",
        "    model.train(iterations)\n",
        "    print(f'Iteration: {i}\\tLog-likelihood: {model.ll_per_word}')\n",
        "\n",
        "print(\"\\nTopic Model Results:\\n\\n\")\n",
        "# Print out top 10 words for each topic\n",
        "topics = []\n",
        "topic_individual_words = []\n",
        "for topic_number in range(0, num_topics):\n",
        "    topic_words = ' '.join(word for word, prob in model.get_topic_words(topic_id=topic_number, top_n=num_topic_words))\n",
        "    topics.append(topic_words)\n",
        "    topic_individual_words.append(topic_words.split())\n",
        "    print(f\"✨Topic {topic_number}✨\\n\\n{topic_words}\\n\")"
      ],
      "metadata": {
        "colab": {
          "base_uri": "https://localhost:8080/"
        },
        "id": "n2250THXO0Jf",
        "outputId": "8e7fa5c1-825c-461f-9d3f-46288d59e3fb"
      },
      "execution_count": 16,
      "outputs": [
        {
          "output_type": "stream",
          "name": "stdout",
          "text": [
            "Topic Model Training...\n",
            "\n",
            "\n",
            "Iteration: 0\tLog-likelihood: -9.064641308760516\n",
            "Iteration: 50\tLog-likelihood: -8.990947210621997\n",
            "\n",
            "Topic Model Results:\n",
            "\n",
            "\n",
            "✨Topic 0✨\n",
            "\n",
            "professor story toronto full read\n",
            "\n",
            "✨Topic 1✨\n",
            "\n",
            "program school law professor academic\n",
            "\n",
            "✨Topic 2✨\n",
            "\n",
            "studies human rights conference professor\n",
            "\n",
            "✨Topic 3✨\n",
            "\n",
            "social canada studies black work\n",
            "\n",
            "✨Topic 4✨\n",
            "\n",
            "change global project climate communities\n",
            "\n",
            "✨Topic 5✨\n",
            "\n",
            "des les pour vice sur\n",
            "\n",
            "✨Topic 6✨\n",
            "\n",
            "dance film arts canadian award\n",
            "\n",
            "✨Topic 7✨\n",
            "\n",
            "said says people could would\n",
            "\n",
            "✨Topic 8✨\n",
            "\n",
            "indigenous aboriginal first people peoples\n",
            "\n",
            "✨Topic 9✨\n",
            "\n",
            "new history art world work\n",
            "\n"
          ]
        }
      ]
    },
    {
      "cell_type": "code",
      "source": [
        "topic_distributions = [list(doc.get_topic_dist()) for doc in model.docs]"
      ],
      "metadata": {
        "id": "TPloe4RhPPHW"
      },
      "execution_count": 17,
      "outputs": []
    },
    {
      "cell_type": "code",
      "source": [
        "from IPython.display import Markdown, display\n",
        "import re\n",
        "\n",
        "def make_md(string):\n",
        "    display(Markdown(str(string)))\n",
        "\n",
        "def get_top_docs(docs, topic_distributions, topic_index, n=5):\n",
        "    \n",
        "    sorted_data = sorted([(_distribution[topic_index], _document) \n",
        "                          for _distribution, _document \n",
        "                          in zip(topic_distributions, docs)], reverse=True)\n",
        "    \n",
        "    topic_words = topics[topic_index]\n",
        "    \n",
        "    make_md(f\"### ✨Topic {topic_index}✨\\n\\n{topic_words}\\n\\n---\")\n",
        "    \n",
        "    for probability, doc in sorted_data[:n]:\n",
        "        # Make topic words bolded\n",
        "        for word in topic_words.split():\n",
        "            if word in doc.lower():\n",
        "                doc = re.sub(f\"\\\\b{word}\\\\b\", f\"**{word}**\", doc, re.IGNORECASE)\n",
        "        \n",
        "        make_md(f'✨  \\n**Topic Probability**: {probability}  \\n**Document**: {doc}\\n\\n')\n",
        "    \n",
        "    return"
      ],
      "metadata": {
        "id": "oLgvJ6crPQt1"
      },
      "execution_count": 18,
      "outputs": []
    },
    {
      "cell_type": "code",
      "source": [
        "get_top_docs(titles, topic_distributions, topic_index=8, n=30)"
      ],
      "metadata": {
        "colab": {
          "base_uri": "https://localhost:8080/",
          "height": 1000
        },
        "id": "cb2XNXcePTpL",
        "outputId": "9de3c1b4-de67-4677-cf4a-aa8f1869c54c"
      },
      "execution_count": 21,
      "outputs": [
        {
          "output_type": "display_data",
          "data": {
            "text/plain": [
              "<IPython.core.display.Markdown object>"
            ],
            "text/markdown": "### ✨Topic 8✨\n\nindigenous aboriginal first people peoples\n\n---"
          },
          "metadata": {}
        },
        {
          "output_type": "display_data",
          "data": {
            "text/plain": [
              "<IPython.core.display.Markdown object>"
            ],
            "text/markdown": "✨  \n**Topic Probability**: 0.7120667099952698  \n**Document**: 2021-09-26-euc-seminar-series-examines-treaty-relations-in-toronto\n\n"
          },
          "metadata": {}
        },
        {
          "output_type": "display_data",
          "data": {
            "text/plain": [
              "<IPython.core.display.Markdown object>"
            ],
            "text/markdown": "✨  \n**Topic Probability**: 0.7002729177474976  \n**Document**: 2021-11-16-euc-seminar-series-looks-at-**indigenous**-involvement-in-city-planning-nov-23\n\n"
          },
          "metadata": {}
        },
        {
          "output_type": "display_data",
          "data": {
            "text/plain": [
              "<IPython.core.display.Markdown object>"
            ],
            "text/markdown": "✨  \n**Topic Probability**: 0.6513477563858032  \n**Document**: 2012-06-15-learn-about-**indigenous**-**peoples**-and-sample-bannock-bread\n\n"
          },
          "metadata": {}
        },
        {
          "output_type": "display_data",
          "data": {
            "text/plain": [
              "<IPython.core.display.Markdown object>"
            ],
            "text/markdown": "✨  \n**Topic Probability**: 0.6455286741256714  \n**Document**: 2014-10-23-spirit-vigil-raises-awareness-about-violence-against-**indigenous**-women\n\n"
          },
          "metadata": {}
        },
        {
          "output_type": "display_data",
          "data": {
            "text/plain": [
              "<IPython.core.display.Markdown object>"
            ],
            "text/markdown": "✨  \n**Topic Probability**: 0.6427420973777771  \n**Document**: 2008-01-23-national-chief-of-the-assembly-of-**first**-nations-to-speak-at-york\n\n"
          },
          "metadata": {}
        },
        {
          "output_type": "display_data",
          "data": {
            "text/plain": [
              "<IPython.core.display.Markdown object>"
            ],
            "text/markdown": "✨  \n**Topic Probability**: 0.6366148591041565  \n**Document**: 2022-01-25-the-euc-seminar-series-to-discuss-the-treaty-of-niagara\n\n"
          },
          "metadata": {}
        },
        {
          "output_type": "display_data",
          "data": {
            "text/plain": [
              "<IPython.core.display.Markdown object>"
            ],
            "text/markdown": "✨  \n**Topic Probability**: 0.632992148399353  \n**Document**: 2021-10-19-euc-seminar-series-continues-with-talk-on-**indigenous**-environmental-justice\n\n"
          },
          "metadata": {}
        },
        {
          "output_type": "display_data",
          "data": {
            "text/plain": [
              "<IPython.core.display.Markdown object>"
            ],
            "text/markdown": "✨  \n**Topic Probability**: 0.6296430826187134  \n**Document**: 2022-02-09-euc-seminar-series-to-discuss-the-toronto-purchase\n\n"
          },
          "metadata": {}
        },
        {
          "output_type": "display_data",
          "data": {
            "text/plain": [
              "<IPython.core.display.Markdown object>"
            ],
            "text/markdown": "✨  \n**Topic Probability**: 0.6226596832275391  \n**Document**: 2013-10-10-sisters-in-spirit-rally-honours-missing-and-murdered-**indigenous**-women\n\n"
          },
          "metadata": {}
        },
        {
          "output_type": "display_data",
          "data": {
            "text/plain": [
              "<IPython.core.display.Markdown object>"
            ],
            "text/markdown": "✨  \n**Topic Probability**: 0.5950532555580139  \n**Document**: 2014-06-17-celebrate-national-**aboriginal**-day-at-york-university-wednesday\n\n"
          },
          "metadata": {}
        },
        {
          "output_type": "display_data",
          "data": {
            "text/plain": [
              "<IPython.core.display.Markdown object>"
            ],
            "text/markdown": "✨  \n**Topic Probability**: 0.5609232187271118  \n**Document**: 2010-06-21-today-is-national-**aboriginal**-day-a-time-to-celebrate-a-diversity-of-cultures\n\n"
          },
          "metadata": {}
        },
        {
          "output_type": "display_data",
          "data": {
            "text/plain": [
              "<IPython.core.display.Markdown object>"
            ],
            "text/markdown": "✨  \n**Topic Probability**: 0.5457831621170044  \n**Document**: 2021-09-09-two-**indigenous**-educators-join-the-faculty-of-education\n\n"
          },
          "metadata": {}
        },
        {
          "output_type": "display_data",
          "data": {
            "text/plain": [
              "<IPython.core.display.Markdown object>"
            ],
            "text/markdown": "✨  \n**Topic Probability**: 0.5383880734443665  \n**Document**: 2022-06-17-reflecting-on-national-**indigenous**-**peoples**-day-and-national-**indigenous**-**peoples**-month\n\n"
          },
          "metadata": {}
        },
        {
          "output_type": "display_data",
          "data": {
            "text/plain": [
              "<IPython.core.display.Markdown object>"
            ],
            "text/markdown": "✨  \n**Topic Probability**: 0.5279505848884583  \n**Document**: 2021-06-20-june-is-national-**indigenous**-history-month-and-june-21-is-national-**indigenous**-**peoples**-day-national-indigenous-**peoples**-day-featured-image\n\n"
          },
          "metadata": {}
        },
        {
          "output_type": "display_data",
          "data": {
            "text/plain": [
              "<IPython.core.display.Markdown object>"
            ],
            "text/markdown": "✨  \n**Topic Probability**: 0.5257638096809387  \n**Document**: 2021-06-20-june-is-national-**indigenous**-history-month-and-june-21-is-national-**indigenous**-**peoples**-day\n\n"
          },
          "metadata": {}
        },
        {
          "output_type": "display_data",
          "data": {
            "text/plain": [
              "<IPython.core.display.Markdown object>"
            ],
            "text/markdown": "✨  \n**Topic Probability**: 0.5235186815261841  \n**Document**: 2021-09-28-orange-shirts-available-for-purchase-at-york-u-bookstore\n\n"
          },
          "metadata": {}
        },
        {
          "output_type": "display_data",
          "data": {
            "text/plain": [
              "<IPython.core.display.Markdown object>"
            ],
            "text/markdown": "✨  \n**Topic Probability**: 0.5106313228607178  \n**Document**: 2013-03-14-york-unveils-its-own-tipi-a-place-to-learn-and-foster-awareness\n\n"
          },
          "metadata": {}
        },
        {
          "output_type": "display_data",
          "data": {
            "text/plain": [
              "<IPython.core.display.Markdown object>"
            ],
            "text/markdown": "✨  \n**Topic Probability**: 0.5098571181297302  \n**Document**: 2017-06-21-york-universitys-hart-house-renamed-to-create-safe-space-for-**indigenous**-**peoples**\n\n"
          },
          "metadata": {}
        },
        {
          "output_type": "display_data",
          "data": {
            "text/plain": [
              "<IPython.core.display.Markdown object>"
            ],
            "text/markdown": "✨  \n**Topic Probability**: 0.50813227891922  \n**Document**: 2009-11-23-new-program-infuses-**first**-nations-culture-and-perspectives-into-teacher-training\n\n"
          },
          "metadata": {}
        },
        {
          "output_type": "display_data",
          "data": {
            "text/plain": [
              "<IPython.core.display.Markdown object>"
            ],
            "text/markdown": "✨  \n**Topic Probability**: 0.5052446126937866  \n**Document**: 2007-10-17-newsletter-reaches-out-to-**aboriginal**-students\n\n"
          },
          "metadata": {}
        },
        {
          "output_type": "display_data",
          "data": {
            "text/plain": [
              "<IPython.core.display.Markdown object>"
            ],
            "text/markdown": "✨  \n**Topic Probability**: 0.48970893025398254  \n**Document**: 2012-04-05-annual-pow-wow-brightens-vari-hall\n\n"
          },
          "metadata": {}
        },
        {
          "output_type": "display_data",
          "data": {
            "text/plain": [
              "<IPython.core.display.Markdown object>"
            ],
            "text/markdown": "✨  \n**Topic Probability**: 0.4811217784881592  \n**Document**: 2013-02-26-three-day-celebration-of-**first**-nations-and-academia-starts-thursday\n\n"
          },
          "metadata": {}
        },
        {
          "output_type": "display_data",
          "data": {
            "text/plain": [
              "<IPython.core.display.Markdown object>"
            ],
            "text/markdown": "✨  \n**Topic Probability**: 0.4785768687725067  \n**Document**: 2022-06-24-attend-an-**indigenous**-walk-on-campus\n\n"
          },
          "metadata": {}
        },
        {
          "output_type": "display_data",
          "data": {
            "text/plain": [
              "<IPython.core.display.Markdown object>"
            ],
            "text/markdown": "✨  \n**Topic Probability**: 0.4700418710708618  \n**Document**: 2021-06-20-the-centre-for-**aboriginal**-student-services-changes-its-name-to-the-centre-for-**indigenous**-student-services\n\n"
          },
          "metadata": {}
        },
        {
          "output_type": "display_data",
          "data": {
            "text/plain": [
              "<IPython.core.display.Markdown object>"
            ],
            "text/markdown": "✨  \n**Topic Probability**: 0.4551788568496704  \n**Document**: 2011-05-20-new-project-gives-a-voice-to-**indigenous**-**people**-with-disabilities\n\n"
          },
          "metadata": {}
        },
        {
          "output_type": "display_data",
          "data": {
            "text/plain": [
              "<IPython.core.display.Markdown object>"
            ],
            "text/markdown": "✨  \n**Topic Probability**: 0.4530550241470337  \n**Document**: 2005-03-03-asay-holds-third-annual-**aboriginal**-awareness-day-and-powwow\n\n"
          },
          "metadata": {}
        },
        {
          "output_type": "display_data",
          "data": {
            "text/plain": [
              "<IPython.core.display.Markdown object>"
            ],
            "text/markdown": "✨  \n**Topic Probability**: 0.4516863226890564  \n**Document**: 2022-06-08-second-meeting-of-**indigenous**-book-club-to-consider-award-winning-braiding-sweetgrass\n\n"
          },
          "metadata": {}
        },
        {
          "output_type": "display_data",
          "data": {
            "text/plain": [
              "<IPython.core.display.Markdown object>"
            ],
            "text/markdown": "✨  \n**Topic Probability**: 0.4459937810897827  \n**Document**: 2009-11-27-mondays-research-matters-features-a-chat-with-coyote-and-raven\n\n"
          },
          "metadata": {}
        },
        {
          "output_type": "display_data",
          "data": {
            "text/plain": [
              "<IPython.core.display.Markdown object>"
            ],
            "text/markdown": "✨  \n**Topic Probability**: 0.44141528010368347  \n**Document**: 2012-02-27-**aboriginal**-students-present-symposium-with-powwow\n\n"
          },
          "metadata": {}
        },
        {
          "output_type": "display_data",
          "data": {
            "text/plain": [
              "<IPython.core.display.Markdown object>"
            ],
            "text/markdown": "✨  \n**Topic Probability**: 0.43801650404930115  \n**Document**: 2009-03-05-**aboriginal**-awareness-days-powwow-start-today\n\n"
          },
          "metadata": {}
        }
      ]
    },
    {
      "cell_type": "code",
      "source": [
        "get_top_docs(original_texts, topic_distributions, topic_index=8, n=5)"
      ],
      "metadata": {
        "colab": {
          "base_uri": "https://localhost:8080/",
          "height": 1000
        },
        "id": "xom2QYoDPfHp",
        "outputId": "c10987df-c171-4641-a46d-70f3da636b88"
      },
      "execution_count": 22,
      "outputs": [
        {
          "output_type": "display_data",
          "data": {
            "text/plain": [
              "<IPython.core.display.Markdown object>"
            ],
            "text/markdown": "### ✨Topic 8✨\n\nindigenous aboriginal first people peoples\n\n---"
          },
          "metadata": {}
        },
        {
          "output_type": "display_data",
          "data": {
            "text/plain": [
              "<IPython.core.display.Markdown object>"
            ],
            "text/markdown": "✨  \n**Topic Probability**: 0.7120667099952698  \n**Document**: EUC Seminar Series examines treaty relations in Toronto\nToronto is the traditional territory of the Wendat, Anishnaabeg and Haudenosaunee Confederacies. It is also one of the most culturally diverse cities on Earth. There is a web of historical treaties that were negotiated on these lands – agreements that hold continued relevance and possibility for the present.\nPolishing the Chain: Treaty Relations in Toronto is a fall and winter conversation series that will bring together Indigenous and allied scholars, knowledge holders, artists, Earth workers and activists who will explore the historical significance and contemporary relevance of the treaties Indigenous nations in southern Ontario have made with each other, with the land and with the Crown. It will explore: the spirit and intent of Toronto treaties; the ways Indigenous Peoples have upheld and continue to uphold them; the extent to which they are (and are not) reflected in contemporary Indigenous and state relations; and the treaty responsibilities of both settler and Indigenous Torontonians.\nThe series’ inaugural talk, “The Symbolic Language of Wampum Diplomacy,” will take place on Tuesday, Sept. 28, just prior to Canada’s **first** National Day for Truth and Reconciliation on Sept. 30. The event, co-presented with the Toronto Biennial of Art, will feature Anishinaabe historian and York University Assistant Professor Alan Corbiere, Canada Research Chair in Indigenous History of North America; Tuscarora writer, historian and curator Rick Hill; and interdisciplinary Kanienkehaka artist Ange Loft.\nThe series will continue with “Taking Care of the Dish: Treaties, Indigenous Law and Environmental Justice” on Oct. 26; “Treaty Relations, Planning and Indigenous Consultation at the City of Toronto” on Nov. 23; “The Forgotten Promise of the Treaty of Niagara” on Jan. 31; “The Toronto ‘Purchase’ ” on Feb. 14; and “We are all Treaty People” on March 14.\nAll Fall 2021 seminars will be held from 11:30 a.m. to 1:30 p.m. via Zoom and live-streamed on the Polishing the Chain Facebook page. To register, visit bit.ly/39AO0PP.\nThis year’s EUC Seminar Series is co-presented by York’s new Centre for Indigenous Knowledges and Languages, the Indigenous Environmental Justice Project, and the Jumblies Theatre and Arts Talking Treaties project. For more information about the seminar series, email polishingthechain@gmail.com.\n\n\n"
          },
          "metadata": {}
        },
        {
          "output_type": "display_data",
          "data": {
            "text/plain": [
              "<IPython.core.display.Markdown object>"
            ],
            "text/markdown": "✨  \n**Topic Probability**: 0.7002729177474976  \n**Document**: EUC Seminar Series looks at Indigenous involvement in city planning, Nov. 23\nThe series’ third instalment, “Treaty Relations, Planning and Indigenous Consultation at the City of Toronto,” will take place on Tuesday, Nov. 23. Speaking at the event are Selina Young, director of the Indigenous Affairs Office for the City of Toronto; Leela Viswanathan, associate professor, School of Urban and Regional Planning, Queen’s University; and Bob Goulai, Niibisin Consulting.\nTreaties, the Crown’s duty to consult and Ontario’s Provincial Planning Policy Statement have triggered new practices of Indigenous consultation and urban planning in Toronto. In this panel, speakers will discuss Indigenous planning and decision making in the Greater Toronto Area. To what extent does city planning include Indigenous nations and communities? To what extent do Indigenous Peoples have meaningful authority or decision-making power in relation to land and waters? To what extent does the city recognize and enable their ability to practise ceremony, plant and harvest food and medicines, or enact stewardship responsibilities?\nPolishing the Chain: Treaty Relations in Toronto is a fall and winter conversation series that will bring together Indigenous and allied scholars, knowledge holders, artists, Earth workers, and activists who will explore the historical significance and contemporary relevance of the treaties Indigenous nations in southern Ontario have made with each other, with the land and with the Crown. It will explore: the spirit and intent of Toronto treaties; the ways Indigenous Peoples have upheld and continue to uphold them; the extent to which they are (and are not) reflected in contemporary Indigenous and state relations; and the treaty responsibilities of both settler and Indigenous Torontonians.\nAll Fall 2021 seminars will be held from 11:30 a.m. to 1:30 p.m. via Zoom and live-streamed on the Polishing the Chain Facebook page. To register, visit https://www.eventbrite.ca/e/treaty-relations-planning-**indigenous**-consultation-at-the-city-of-toronto-tickets-208769514237.\nThis year’s EUC Seminar Series is co-presented by York’s new Centre for Indigenous Knowledges and Languages, the Indigenous Environmental Justice Project, and the Jumblies Theatre and Arts Talking Treaties project. For more information about the seminar series, email polishingthechain@gmail.com.\n\n\n"
          },
          "metadata": {}
        },
        {
          "output_type": "display_data",
          "data": {
            "text/plain": [
              "<IPython.core.display.Markdown object>"
            ],
            "text/markdown": "✨  \n**Topic Probability**: 0.6513477563858032  \n**Document**: Learn about Indigenous **peoples** and sample bannock bread\nBoozhoo, sekon, tansi, greetings. The Centre for Aboriginal Student Services (CASS) will be in Vari Hall Monday with a table providing samples of three sisters soup and bannock bread, as a way to promote awareness of Indigenous **peoples** and of the upcoming National Aboriginal Day – June 21.\nCASS will hand out samples in Vari Hall, from 11:30am to 3pm. There will also be information on events happening downtown June 21.\n“Three sisters soup is a traditional dish that not only tastes delicious, but it shows how advanced the Aboriginal **people** were with agriculture,” says Amber Wynne, student peer leader at CASS.  Wynne say the three sisters vegetable garden, comprised of corn, beans and squash, works together, as “the corn would take the nitrogen from the soil, which was readily replenished by the bean plant, and the squash leaves would keep the soil moist by protecting it from the sun”.\nInside the  Centre for Aboriginal Student Services \nIn celebration of the 16th Annual National Aboriginal Day, CASS is bringing the event to the students, staff and faculty at York.\n“It’s important to recognize and celebrate the rich culture and history behind Indigenous peoples, while promoting inclusion and unity among all nations,” says Jolene John, CASS administrative assistant. CASS would like to “share the diverse cultures of First Nations, Inuit and Metis **people** while also promoting awareness that Indigenous people are here and thriving,” says John.\nThe National Indian Brotherhood, now the Assembly of First Nations, **first** called for a National Aboriginal Day in 1982. It was to be a day that commemorated Aboriginal solidarity.\nIn 1995, The Sacred Assembly (a national conference of Aboriginal and non-Aboriginal people) once again called for a national holiday to celebrate the contributions of Aboriginal peoples. Finally, in 1996 former Governor General Romeo LeBlanc declared June 21 as National Aboriginal Day.\nSome events that will be taking place in the Toronto area are as follows:\nJune 18 to 23\nArt Show\nSponsored by the Toronto District School Board Aboriginal Education Centre\nToronto City Hall Rotunda, 100 Queen St. W.\nJune 21\nNational Aboriginal Day Sunrise Ceremony & Flag Raising\nPodium Roof, Toronto City Hall, 100 Queen St. W.\n5:30am\nCelebrate the summer solstice with First Nations’ dancing, drumming and a sunset ceremony\nFort York National Historic Site, 250 Fort York Blvd.\n6pm to sunset\nAll My Relations’ National Aboriginal Day\nAllendale Gardens Park\n12pm to 6pm\nJune 23\nNa-Me-Rez Outdoor Traditional Powwow\nWells Hills Park, East of Bathurst & St. Clair West\nGrand Entry starts at 12pm\nJune 29\nScarbourough Powwow\n20 Waldock St., Scarborough, Ontario\nSunrise ceremony at 5:30am\nGrand Entry at 12pm\nJune 30\nAboriginal History Month Celebration Event @ Dundas Square\nSponsored by the Native Canadian Centre of Toronto\n12 to 8pm\nFor more information about celebrations that will be taking place around National Aboriginal Day, visit the Government of Canada’s Aboriginal Canada Portal website.\nFor more information on Aboriginal services, visit the CASS website or stop by the centre at 246 York Lanes.\n\n\n"
          },
          "metadata": {}
        },
        {
          "output_type": "display_data",
          "data": {
            "text/plain": [
              "<IPython.core.display.Markdown object>"
            ],
            "text/markdown": "✨  \n**Topic Probability**: 0.6455286741256714  \n**Document**: Spirit vigil raises awareness about violence against **indigenous** women\nMore than 50 students, staff and faculty recently marched from York’s Vari Hall to Osgoode Hall Law School to raise awareness about violence against **indigenous** women.\nThe Spirit Vigil to Honour Our Stolen Sisters, presented by the Aboriginal Students’ Association at York, was held in support of missing and murdered women in Canada, and stressed the need for a national inquiry.\nSisters in Spirit Vigils are held annually throughout Canada on Oct. 4 to raise public awareness about missing and murdered indigenous women and girls, with the goal of ending violence committed against all women. While estimates put the number of missing and murdered indigenous women in Canada at about 1,200 within the past 20 years, elder Laureen “Blu” Waters noted that in reality, this figure is much higher due to all of the violence that goes unreported.\nASAY Vice-President Karissa John shared a teaching she received by York alumna Megan Bertasson, current doctoral student at OISE and an active member in the Toronto indigenous community. The shared sentiment acknowledges: “Not only must we honour and remember our stolen sisters and their families, we also must recognize and raise awareness for the survivors of domestic violence and those women and girls that are still with us today. In doing so, we hope to bring healing to our families, our communities and our nations.”\nParticipants, including Professor Tania das Gupta’s students from her MIST 3680 course, carried placards, some with the names of missing and murdered indigenous women, as the crowd wound its way through Vari Hall and Central Square, and out towards Osgoode. The march ended at the York Tipi, where a ceremony, including a traditional prayer and sharing circle, was held to remember the missing and murdered women. Guest speakers included indigenous students, staff and faculty at York, and the circle was open to participants to share testimonies of friends and family members who have been deeply affected by violence.\nFollowing the ceremony, participants gathered for a group photo in support of #IAmNotNext, a social media campaign empowering indigenous women by refusing to accept violence in their communities. Non-indigenous allies carried similar signs in support of indigenous women, declaring #IGotYourBack and #IStandByYou.\nStudents interested in learning more about the cause are welcome to join the Walking With Our Sisters Facebook page, follow Christi Belcourt’s commemorative art installation exhibits and participate in the annual Feb. 14 Strawberry Ceremony. For more information, visit the Centre for Aboriginal Student Services Facebook page or the Aboriginal Students’ Association at York Facebook page.\nStudents interested in taking York’s Indigenous Studies certificate option should contact the Department of Equity Studies at deqs@yorku.ca.\n\n\n"
          },
          "metadata": {}
        },
        {
          "output_type": "display_data",
          "data": {
            "text/plain": [
              "<IPython.core.display.Markdown object>"
            ],
            "text/markdown": "✨  \n**Topic Probability**: 0.6427420973777771  \n**Document**: National chief of the Assembly of First Nations to speak at York\nAsk and he will come. It worked for the Osgoode Indigenous Students’ Association (OISA) at York. Phil Fontaine, national chief of the Assembly of First Nations, is coming to speak at York’s Osgoode Hall Law School simply because OISA asked him to.\nFontaine will speak on Friday, Jan. 25, at 10:30am in the Moot Court Room, 101 Osgoode Hall Law School, about some of the legal issues facing First Nations **people** today. The event is free and open to everyone.\n\"We are all very excited about him coming,\" said Hazel Herrington, OISA’s internal and external relations coordinator. \"We are committed to bringing Aboriginal issues into the school.\"\nFontaine, an Ojibway from the Sagkeeng First Nation some 150 km north of Winnipeg, is serving his third term as national chief of the Assembly of First Nations. \nLeft: Phil Fontaine\n\"OISA has a Visiting Elder Speaker Series which brings Aboriginal elders into Osgoode to share Aboriginal teachings,\" said Herrington. \"Having Phil Fontaine come to Osgoode seemed like a logical extension of the work we are already involved in.\"\nOne of Fontaine’s **first** forays into advocating for First Nations rights came in his youth with the Canadian Indian Youth Council. He was then elected chief of Sagkeeng in 1972, a position he held for two consecutive terms.\nWith his guidance, the Sagkeeng First Nation was the **first** in Canada to have a locally-controlled education system and the first to have an Alcohol and Addictions Treatment Centre on its reserve. Sagkeeng also had one of the first Child & Family Services agencies.\nFollowing his stint as chief of Sagkeeng, Fontaine moved with his family to the Yukon and served as the federal government’s regional director general of Indian and Northern Affairs Canada. When he returned to Manitoba in 1980, he was elected as the Manitoba regional chief for the Assembly of First Nations. Then in 1991, he became the elected grand chief of the Assembly of Manitoba Chiefs, a position he held for three consecutive terms.\nFontaine was first elected national chief of the Assembly of First Nations in 1997. In that position, he helped bring about the 1998 federal government’s Statement of Reconciliation, including a $350-million Healing Fund.\nAfter his three-year term as chief was complete, Fontaine was appointed chief commissioner of the Indian Claims Commission (ICC) and it was in that role that he was instrumental in resolving the Kahkewistihaw First Nation’s outstanding 1907 land claim resulting in a $94.6-million settlement.\nHe left his position with the ICC and was then elected two more times for the position of national chief of the Assembly of First Nations, in 2003 and 2006, where he continues to work for the rights of First Nations **people**.\nFontaine holds several honorary doctorates and is a member of the Order of Manitoba.\nOISA’s objectives are to promote legal education for **indigenous** people in a culturally appropriate learning environment, to raise awareness and provide support for **indigenous** initiatives within Osgoode and to support indigenous students within Osgoode. OISA also supports faculty’s advocacy or initiatives for the inclusion of indigenous perspectives, historical context, community experiences, knowledge, healing, cultural wisdom and insights within the school and curriculum. It also initiates formal and informal links between Osgoode and indigenous communities.\nFor more information about OISA, click here.\n\n\n"
          },
          "metadata": {}
        }
      ]
    }
  ]
}