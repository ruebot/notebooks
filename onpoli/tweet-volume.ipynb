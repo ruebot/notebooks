{
 "cells": [
  {
   "cell_type": "markdown",
   "metadata": {},
   "source": [
    "# #onpoli tweet volume July 14, 2009 - December 31, 2022"
   ]
  },
  {
   "cell_type": "code",
   "execution_count": 1,
   "metadata": {},
   "outputs": [],
   "source": [
    "import altair as alt\n",
    "import pandas as pd"
   ]
  },
  {
   "cell_type": "code",
   "execution_count": 2,
   "metadata": {},
   "outputs": [],
   "source": [
    "df = pd.read_csv(\n",
    "    \"data/onpoli-timestamps.txt\",\n",
    "    names=[\"utc_timestamp\"],\n",
    "    header=None,\n",
    "    parse_dates=[\"utc_timestamp\"],\n",
    ")"
   ]
  },
  {
   "cell_type": "code",
   "execution_count": 4,
   "metadata": {},
   "outputs": [],
   "source": [
    "df[\"toronto\"] = df[\"utc_timestamp\"].dt.tz_convert(\"America/Toronto\")"
   ]
  },
  {
   "cell_type": "code",
   "execution_count": 5,
   "metadata": {},
   "outputs": [
    {
     "name": "stderr",
     "output_type": "stream",
     "text": [
      "/home/nruest/.pyenv/versions/3.9.9/lib/python3.9/site-packages/pandas/core/arrays/datetimes.py:1143: UserWarning: Converting to PeriodArray/Index representation will drop timezone information.\n",
      "  warnings.warn(\n"
     ]
    }
   ],
   "source": [
    "df[\"months\"] = df[\"toronto\"].dt.to_period(\"M\")"
   ]
  },
  {
   "cell_type": "code",
   "execution_count": 6,
   "metadata": {},
   "outputs": [],
   "source": [
    "df = df.drop(\"utc_timestamp\", axis=1)"
   ]
  },
  {
   "cell_type": "code",
   "execution_count": 7,
   "metadata": {},
   "outputs": [],
   "source": [
    "data = (\n",
    "    df.groupby(df[\"months\"], as_index=False)\n",
    "    .count()\n",
    "    .rename(columns={\"months\": \"Year/Month\", \"toronto\": \"Tweets\"})\n",
    ")"
   ]
  },
  {
   "cell_type": "code",
   "execution_count": 8,
   "metadata": {},
   "outputs": [],
   "source": [
    "data[\"Year/Month\"] = data[\"Year/Month\"].astype(str)"
   ]
  },
  {
   "cell_type": "code",
   "execution_count": 9,
   "metadata": {},
   "outputs": [
    {
     "data": {
      "text/html": [
       "<div>\n",
       "<style scoped>\n",
       "    .dataframe tbody tr th:only-of-type {\n",
       "        vertical-align: middle;\n",
       "    }\n",
       "\n",
       "    .dataframe tbody tr th {\n",
       "        vertical-align: top;\n",
       "    }\n",
       "\n",
       "    .dataframe thead th {\n",
       "        text-align: right;\n",
       "    }\n",
       "</style>\n",
       "<table border=\"1\" class=\"dataframe\">\n",
       "  <thead>\n",
       "    <tr style=\"text-align: right;\">\n",
       "      <th></th>\n",
       "      <th>Year/Month</th>\n",
       "      <th>Tweets</th>\n",
       "    </tr>\n",
       "  </thead>\n",
       "  <tbody>\n",
       "    <tr>\n",
       "      <th>0</th>\n",
       "      <td>2009-07</td>\n",
       "      <td>1</td>\n",
       "    </tr>\n",
       "    <tr>\n",
       "      <th>1</th>\n",
       "      <td>2009-08</td>\n",
       "      <td>1</td>\n",
       "    </tr>\n",
       "    <tr>\n",
       "      <th>2</th>\n",
       "      <td>2009-09</td>\n",
       "      <td>2</td>\n",
       "    </tr>\n",
       "    <tr>\n",
       "      <th>3</th>\n",
       "      <td>2009-10</td>\n",
       "      <td>28</td>\n",
       "    </tr>\n",
       "    <tr>\n",
       "      <th>4</th>\n",
       "      <td>2009-11</td>\n",
       "      <td>79</td>\n",
       "    </tr>\n",
       "    <tr>\n",
       "      <th>...</th>\n",
       "      <td>...</td>\n",
       "      <td>...</td>\n",
       "    </tr>\n",
       "    <tr>\n",
       "      <th>157</th>\n",
       "      <td>2022-08</td>\n",
       "      <td>210296</td>\n",
       "    </tr>\n",
       "    <tr>\n",
       "      <th>158</th>\n",
       "      <td>2022-09</td>\n",
       "      <td>121101</td>\n",
       "    </tr>\n",
       "    <tr>\n",
       "      <th>159</th>\n",
       "      <td>2022-10</td>\n",
       "      <td>182765</td>\n",
       "    </tr>\n",
       "    <tr>\n",
       "      <th>160</th>\n",
       "      <td>2022-11</td>\n",
       "      <td>499579</td>\n",
       "    </tr>\n",
       "    <tr>\n",
       "      <th>161</th>\n",
       "      <td>2022-12</td>\n",
       "      <td>153757</td>\n",
       "    </tr>\n",
       "  </tbody>\n",
       "</table>\n",
       "<p>162 rows × 2 columns</p>\n",
       "</div>"
      ],
      "text/plain": [
       "    Year/Month  Tweets\n",
       "0      2009-07       1\n",
       "1      2009-08       1\n",
       "2      2009-09       2\n",
       "3      2009-10      28\n",
       "4      2009-11      79\n",
       "..         ...     ...\n",
       "157    2022-08  210296\n",
       "158    2022-09  121101\n",
       "159    2022-10  182765\n",
       "160    2022-11  499579\n",
       "161    2022-12  153757\n",
       "\n",
       "[162 rows x 2 columns]"
      ]
     },
     "execution_count": 9,
     "metadata": {},
     "output_type": "execute_result"
    }
   ],
   "source": [
    "data"
   ]
  },
  {
   "cell_type": "code",
   "execution_count": 22,
   "metadata": {},
   "outputs": [
    {
     "data": {
      "text/html": [
       "\n",
       "<div id=\"altair-viz-d2a39568e20046fa8020d1b4d1dcf14b\"></div>\n",
       "<script type=\"text/javascript\">\n",
       "  var VEGA_DEBUG = (typeof VEGA_DEBUG == \"undefined\") ? {} : VEGA_DEBUG;\n",
       "  (function(spec, embedOpt){\n",
       "    let outputDiv = document.currentScript.previousElementSibling;\n",
       "    if (outputDiv.id !== \"altair-viz-d2a39568e20046fa8020d1b4d1dcf14b\") {\n",
       "      outputDiv = document.getElementById(\"altair-viz-d2a39568e20046fa8020d1b4d1dcf14b\");\n",
       "    }\n",
       "    const paths = {\n",
       "      \"vega\": \"https://cdn.jsdelivr.net/npm//vega@5?noext\",\n",
       "      \"vega-lib\": \"https://cdn.jsdelivr.net/npm//vega-lib?noext\",\n",
       "      \"vega-lite\": \"https://cdn.jsdelivr.net/npm//vega-lite@4.17.0?noext\",\n",
       "      \"vega-embed\": \"https://cdn.jsdelivr.net/npm//vega-embed@6?noext\",\n",
       "    };\n",
       "\n",
       "    function maybeLoadScript(lib, version) {\n",
       "      var key = `${lib.replace(\"-\", \"\")}_version`;\n",
       "      return (VEGA_DEBUG[key] == version) ?\n",
       "        Promise.resolve(paths[lib]) :\n",
       "        new Promise(function(resolve, reject) {\n",
       "          var s = document.createElement('script');\n",
       "          document.getElementsByTagName(\"head\")[0].appendChild(s);\n",
       "          s.async = true;\n",
       "          s.onload = () => {\n",
       "            VEGA_DEBUG[key] = version;\n",
       "            return resolve(paths[lib]);\n",
       "          };\n",
       "          s.onerror = () => reject(`Error loading script: ${paths[lib]}`);\n",
       "          s.src = paths[lib];\n",
       "        });\n",
       "    }\n",
       "\n",
       "    function showError(err) {\n",
       "      outputDiv.innerHTML = `<div class=\"error\" style=\"color:red;\">${err}</div>`;\n",
       "      throw err;\n",
       "    }\n",
       "\n",
       "    function displayChart(vegaEmbed) {\n",
       "      vegaEmbed(outputDiv, spec, embedOpt)\n",
       "        .catch(err => showError(`Javascript Error: ${err.message}<br>This usually means there's a typo in your chart specification. See the javascript console for the full traceback.`));\n",
       "    }\n",
       "\n",
       "    if(typeof define === \"function\" && define.amd) {\n",
       "      requirejs.config({paths});\n",
       "      require([\"vega-embed\"], displayChart, err => showError(`Error loading script: ${err.message}`));\n",
       "    } else {\n",
       "      maybeLoadScript(\"vega\", \"5\")\n",
       "        .then(() => maybeLoadScript(\"vega-lite\", \"4.17.0\"))\n",
       "        .then(() => maybeLoadScript(\"vega-embed\", \"6\"))\n",
       "        .catch(showError)\n",
       "        .then(() => displayChart(vegaEmbed));\n",
       "    }\n",
       "  })({\"config\": {\"view\": {\"continuousWidth\": 400, \"continuousHeight\": 300}, \"title\": {\"align\": \"center\", \"color\": \"black\", \"dy\": -3, \"font\": \"Verdana\", \"fontSize\": 30}}, \"layer\": [{\"mark\": \"bar\", \"encoding\": {\"color\": {\"condition\": {\"value\": \"#ee4784\", \"test\": {\"field\": \"Year/Month\", \"oneOf\": [\"2011-09\", \"2011-10\", \"2014-05\", \"2014-06\", \"2018-05\", \"2018-06\", \"2022-05\", \"2022-06\"]}}, \"value\": \"#3d52a8\"}, \"x\": {\"field\": \"Tweets\", \"type\": \"quantitative\"}, \"y\": {\"field\": \"Year/Month\", \"type\": \"ordinal\"}}}, {\"mark\": {\"type\": \"text\", \"align\": \"left\", \"baseline\": \"middle\", \"dx\": 3}, \"encoding\": {\"color\": {\"condition\": {\"value\": \"#ee4784\", \"test\": {\"field\": \"Year/Month\", \"oneOf\": [\"2011-09\", \"2011-10\", \"2014-05\", \"2014-06\", \"2018-05\", \"2018-06\", \"2022-05\", \"2022-06\"]}}, \"value\": \"#3d52a8\"}, \"text\": {\"field\": \"Tweets\", \"type\": \"quantitative\"}, \"x\": {\"field\": \"Tweets\", \"type\": \"quantitative\"}, \"y\": {\"field\": \"Year/Month\", \"type\": \"ordinal\"}}}], \"data\": {\"name\": \"data-6d9c2263beb11a0bbb25c4764d675644\"}, \"height\": 2200, \"title\": \"#onpoli tweet volume July 14, 2009 - December 31, 2022\", \"width\": 1500, \"$schema\": \"https://vega.github.io/schema/vega-lite/v4.17.0.json\", \"datasets\": {\"data-6d9c2263beb11a0bbb25c4764d675644\": [{\"Year/Month\": \"2009-07\", \"Tweets\": 1}, {\"Year/Month\": \"2009-08\", \"Tweets\": 1}, {\"Year/Month\": \"2009-09\", \"Tweets\": 2}, {\"Year/Month\": \"2009-10\", \"Tweets\": 28}, {\"Year/Month\": \"2009-11\", \"Tweets\": 79}, {\"Year/Month\": \"2009-12\", \"Tweets\": 50}, {\"Year/Month\": \"2010-01\", \"Tweets\": 69}, {\"Year/Month\": \"2010-02\", \"Tweets\": 59}, {\"Year/Month\": \"2010-03\", \"Tweets\": 227}, {\"Year/Month\": \"2010-04\", \"Tweets\": 212}, {\"Year/Month\": \"2010-05\", \"Tweets\": 178}, {\"Year/Month\": \"2010-06\", \"Tweets\": 215}, {\"Year/Month\": \"2010-07\", \"Tweets\": 244}, {\"Year/Month\": \"2010-08\", \"Tweets\": 354}, {\"Year/Month\": \"2010-09\", \"Tweets\": 503}, {\"Year/Month\": \"2010-10\", \"Tweets\": 864}, {\"Year/Month\": \"2010-11\", \"Tweets\": 1611}, {\"Year/Month\": \"2010-12\", \"Tweets\": 1779}, {\"Year/Month\": \"2011-01\", \"Tweets\": 1765}, {\"Year/Month\": \"2011-02\", \"Tweets\": 3921}, {\"Year/Month\": \"2011-03\", \"Tweets\": 5706}, {\"Year/Month\": \"2011-04\", \"Tweets\": 4160}, {\"Year/Month\": \"2011-05\", \"Tweets\": 10980}, {\"Year/Month\": \"2011-06\", \"Tweets\": 12027}, {\"Year/Month\": \"2011-07\", \"Tweets\": 14410}, {\"Year/Month\": \"2011-08\", \"Tweets\": 22254}, {\"Year/Month\": \"2011-09\", \"Tweets\": 55053}, {\"Year/Month\": \"2011-10\", \"Tweets\": 24467}, {\"Year/Month\": \"2011-11\", \"Tweets\": 8713}, {\"Year/Month\": \"2011-12\", \"Tweets\": 7801}, {\"Year/Month\": \"2012-01\", \"Tweets\": 8779}, {\"Year/Month\": \"2012-02\", \"Tweets\": 14217}, {\"Year/Month\": \"2012-03\", \"Tweets\": 19820}, {\"Year/Month\": \"2012-04\", \"Tweets\": 19998}, {\"Year/Month\": \"2012-05\", \"Tweets\": 18043}, {\"Year/Month\": \"2012-06\", \"Tweets\": 25003}, {\"Year/Month\": \"2012-07\", \"Tweets\": 16664}, {\"Year/Month\": \"2012-08\", \"Tweets\": 25517}, {\"Year/Month\": \"2012-09\", \"Tweets\": 29616}, {\"Year/Month\": \"2012-10\", \"Tweets\": 36583}, {\"Year/Month\": \"2012-11\", \"Tweets\": 25858}, {\"Year/Month\": \"2012-12\", \"Tweets\": 27151}, {\"Year/Month\": \"2013-01\", \"Tweets\": 51666}, {\"Year/Month\": \"2013-02\", \"Tweets\": 33056}, {\"Year/Month\": \"2013-03\", \"Tweets\": 26430}, {\"Year/Month\": \"2013-04\", \"Tweets\": 28750}, {\"Year/Month\": \"2013-05\", \"Tweets\": 38352}, {\"Year/Month\": \"2013-06\", \"Tweets\": 33724}, {\"Year/Month\": \"2013-07\", \"Tweets\": 37563}, {\"Year/Month\": \"2013-08\", \"Tweets\": 28465}, {\"Year/Month\": \"2013-09\", \"Tweets\": 27477}, {\"Year/Month\": \"2013-10\", \"Tweets\": 30713}, {\"Year/Month\": \"2013-11\", \"Tweets\": 32517}, {\"Year/Month\": \"2013-12\", \"Tweets\": 27474}, {\"Year/Month\": \"2014-01\", \"Tweets\": 31079}, {\"Year/Month\": \"2014-02\", \"Tweets\": 37183}, {\"Year/Month\": \"2014-03\", \"Tweets\": 43461}, {\"Year/Month\": \"2014-04\", \"Tweets\": 48455}, {\"Year/Month\": \"2014-05\", \"Tweets\": 178291}, {\"Year/Month\": \"2014-06\", \"Tweets\": 186613}, {\"Year/Month\": \"2014-07\", \"Tweets\": 26899}, {\"Year/Month\": \"2014-08\", \"Tweets\": 17216}, {\"Year/Month\": \"2014-09\", \"Tweets\": 22511}, {\"Year/Month\": \"2014-10\", \"Tweets\": 24901}, {\"Year/Month\": \"2014-11\", \"Tweets\": 32667}, {\"Year/Month\": \"2014-12\", \"Tweets\": 32208}, {\"Year/Month\": \"2015-01\", \"Tweets\": 37195}, {\"Year/Month\": \"2015-02\", \"Tweets\": 48990}, {\"Year/Month\": \"2015-03\", \"Tweets\": 45901}, {\"Year/Month\": \"2015-04\", \"Tweets\": 60296}, {\"Year/Month\": \"2015-05\", \"Tweets\": 63447}, {\"Year/Month\": \"2015-06\", \"Tweets\": 39664}, {\"Year/Month\": \"2015-07\", \"Tweets\": 31514}, {\"Year/Month\": \"2015-08\", \"Tweets\": 32694}, {\"Year/Month\": \"2015-09\", \"Tweets\": 49209}, {\"Year/Month\": \"2015-10\", \"Tweets\": 66497}, {\"Year/Month\": \"2015-11\", \"Tweets\": 43291}, {\"Year/Month\": \"2015-12\", \"Tweets\": 39107}, {\"Year/Month\": \"2016-01\", \"Tweets\": 35787}, {\"Year/Month\": \"2016-02\", \"Tweets\": 44038}, {\"Year/Month\": \"2016-03\", \"Tweets\": 40050}, {\"Year/Month\": \"2016-04\", \"Tweets\": 65283}, {\"Year/Month\": \"2016-05\", \"Tweets\": 58956}, {\"Year/Month\": \"2016-06\", \"Tweets\": 43621}, {\"Year/Month\": \"2016-07\", \"Tweets\": 29170}, {\"Year/Month\": \"2016-08\", \"Tweets\": 34568}, {\"Year/Month\": \"2016-09\", \"Tweets\": 39435}, {\"Year/Month\": \"2016-10\", \"Tweets\": 37220}, {\"Year/Month\": \"2016-11\", \"Tweets\": 42692}, {\"Year/Month\": \"2016-12\", \"Tweets\": 29348}, {\"Year/Month\": \"2017-01\", \"Tweets\": 32260}, {\"Year/Month\": \"2017-02\", \"Tweets\": 33206}, {\"Year/Month\": \"2017-03\", \"Tweets\": 39656}, {\"Year/Month\": \"2017-04\", \"Tweets\": 38571}, {\"Year/Month\": \"2017-05\", \"Tweets\": 36756}, {\"Year/Month\": \"2017-06\", \"Tweets\": 32665}, {\"Year/Month\": \"2017-07\", \"Tweets\": 36034}, {\"Year/Month\": \"2017-08\", \"Tweets\": 32462}, {\"Year/Month\": \"2017-09\", \"Tweets\": 41706}, {\"Year/Month\": \"2017-10\", \"Tweets\": 41635}, {\"Year/Month\": \"2017-11\", \"Tweets\": 59517}, {\"Year/Month\": \"2017-12\", \"Tweets\": 43346}, {\"Year/Month\": \"2018-01\", \"Tweets\": 105648}, {\"Year/Month\": \"2018-02\", \"Tweets\": 108804}, {\"Year/Month\": \"2018-03\", \"Tweets\": 198489}, {\"Year/Month\": \"2018-04\", \"Tweets\": 169880}, {\"Year/Month\": \"2018-05\", \"Tweets\": 399206}, {\"Year/Month\": \"2018-06\", \"Tweets\": 305808}, {\"Year/Month\": \"2018-07\", \"Tweets\": 200526}, {\"Year/Month\": \"2018-08\", \"Tweets\": 184752}, {\"Year/Month\": \"2018-09\", \"Tweets\": 238967}, {\"Year/Month\": \"2018-10\", \"Tweets\": 137599}, {\"Year/Month\": \"2018-11\", \"Tweets\": 176497}, {\"Year/Month\": \"2018-12\", \"Tweets\": 144928}, {\"Year/Month\": \"2019-01\", \"Tweets\": 143158}, {\"Year/Month\": \"2019-02\", \"Tweets\": 207633}, {\"Year/Month\": \"2019-03\", \"Tweets\": 245692}, {\"Year/Month\": \"2019-04\", \"Tweets\": 309392}, {\"Year/Month\": \"2019-05\", \"Tweets\": 241420}, {\"Year/Month\": \"2019-06\", \"Tweets\": 250808}, {\"Year/Month\": \"2019-07\", \"Tweets\": 142601}, {\"Year/Month\": \"2019-08\", \"Tweets\": 112431}, {\"Year/Month\": \"2019-09\", \"Tweets\": 124767}, {\"Year/Month\": \"2019-10\", \"Tweets\": 147145}, {\"Year/Month\": \"2019-11\", \"Tweets\": 147220}, {\"Year/Month\": \"2019-12\", \"Tweets\": 162974}, {\"Year/Month\": \"2020-01\", \"Tweets\": 190806}, {\"Year/Month\": \"2020-02\", \"Tweets\": 279688}, {\"Year/Month\": \"2020-03\", \"Tweets\": 229333}, {\"Year/Month\": \"2020-04\", \"Tweets\": 114266}, {\"Year/Month\": \"2020-05\", \"Tweets\": 135716}, {\"Year/Month\": \"2020-06\", \"Tweets\": 125327}, {\"Year/Month\": \"2020-07\", \"Tweets\": 146460}, {\"Year/Month\": \"2020-08\", \"Tweets\": 158718}, {\"Year/Month\": \"2020-09\", \"Tweets\": 168005}, {\"Year/Month\": \"2020-10\", \"Tweets\": 180171}, {\"Year/Month\": \"2020-11\", \"Tweets\": 201791}, {\"Year/Month\": \"2020-12\", \"Tweets\": 177178}, {\"Year/Month\": \"2021-01\", \"Tweets\": 312721}, {\"Year/Month\": \"2021-02\", \"Tweets\": 240915}, {\"Year/Month\": \"2021-03\", \"Tweets\": 300714}, {\"Year/Month\": \"2021-04\", \"Tweets\": 622212}, {\"Year/Month\": \"2021-05\", \"Tweets\": 293241}, {\"Year/Month\": \"2021-06\", \"Tweets\": 244979}, {\"Year/Month\": \"2021-07\", \"Tweets\": 139481}, {\"Year/Month\": \"2021-08\", \"Tweets\": 180138}, {\"Year/Month\": \"2021-09\", \"Tweets\": 160674}, {\"Year/Month\": \"2021-10\", \"Tweets\": 208186}, {\"Year/Month\": \"2021-11\", \"Tweets\": 230722}, {\"Year/Month\": \"2021-12\", \"Tweets\": 252886}, {\"Year/Month\": \"2022-01\", \"Tweets\": 399293}, {\"Year/Month\": \"2022-02\", \"Tweets\": 342328}, {\"Year/Month\": \"2022-03\", \"Tweets\": 252521}, {\"Year/Month\": \"2022-04\", \"Tweets\": 303724}, {\"Year/Month\": \"2022-05\", \"Tweets\": 702981}, {\"Year/Month\": \"2022-06\", \"Tweets\": 224443}, {\"Year/Month\": \"2022-07\", \"Tweets\": 116800}, {\"Year/Month\": \"2022-08\", \"Tweets\": 210296}, {\"Year/Month\": \"2022-09\", \"Tweets\": 121101}, {\"Year/Month\": \"2022-10\", \"Tweets\": 182765}, {\"Year/Month\": \"2022-11\", \"Tweets\": 499579}, {\"Year/Month\": \"2022-12\", \"Tweets\": 153757}]}}, {\"mode\": \"vega-lite\"});\n",
       "</script>"
      ],
      "text/plain": [
       "alt.LayerChart(...)"
      ]
     },
     "execution_count": 22,
     "metadata": {},
     "output_type": "execute_result"
    }
   ],
   "source": [
    "chart = alt.Chart(data).mark_bar().encode(\n",
    "               x=alt.X(\"Tweets:Q\"),\n",
    "               y=alt.Y(\"Year/Month:O\"),\n",
    "               color=alt.condition(\n",
    "                 alt.FieldOneOfPredicate('Year/Month', ['2011-09', '2011-10', '2014-05', '2014-06', '2018-05', '2018-06', '2022-05', '2022-06']),\n",
    "                 alt.value('#ee4784'),     \n",
    "                 alt.value('#3d52a8')\n",
    "               )\n",
    "           )\n",
    "\n",
    "chart_text = chart.mark_text(align=\"left\", baseline=\"middle\", dx=3).encode(\n",
    "     text=\"Tweets:Q\"\n",
    ")\n",
    "\n",
    "(chart + chart_text).properties(\n",
    "    width=1500,\n",
    "    height=2200,\n",
    "    title=\"#onpoli tweet volume July 14, 2009 - December 31, 2022\",\n",
    ").configure_title(fontSize=30, font=\"Verdana\", align=\"center\", color=\"black\", dy=-3)"
   ]
  },
  {
   "cell_type": "code",
   "execution_count": null,
   "metadata": {},
   "outputs": [],
   "source": []
  }
 ],
 "metadata": {
  "kernelspec": {
   "display_name": "Python 3 (ipykernel)",
   "language": "python",
   "name": "python3"
  },
  "language_info": {
   "codemirror_mode": {
    "name": "ipython",
    "version": 3
   },
   "file_extension": ".py",
   "mimetype": "text/x-python",
   "name": "python",
   "nbconvert_exporter": "python",
   "pygments_lexer": "ipython3",
   "version": "3.9.9"
  }
 },
 "nbformat": 4,
 "nbformat_minor": 4
}
