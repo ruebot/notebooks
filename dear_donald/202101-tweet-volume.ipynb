{
 "cells": [
  {
   "cell_type": "markdown",
   "metadata": {},
   "source": [
    "# Graphing tweets to @realDonaldTrump by day in early January 2021"
   ]
  },
  {
   "cell_type": "markdown",
   "metadata": {},
   "source": [
    "We're using a Jupyter Notebook via the [Anaconda distribution](https://www.anaconda.com/), and we'll need to only import the following:"
   ]
  },
  {
   "cell_type": "code",
   "execution_count": 2,
   "metadata": {},
   "outputs": [],
   "source": [
    "import datetime\n",
    "import pandas as pd"
   ]
  },
  {
   "cell_type": "markdown",
   "metadata": {},
   "source": [
    "We'll create a DataFrame to work with from `202101-dates.txt`. This file is a derivative of the [Tweets to Donald Trump (@realDonaldTrump)](https://doi.org/10.5683/SP/8BAVQM) dataset. It can be created with [`jq`](https://stedolan.github.io/jq/) with the following command:\n",
    "\n",
    "```\n",
    "$ cat 202101-tweets.jsonl | jq -r .created_at > 202101-dates.txt\n",
    "```\n",
    "\n",
    "It is also included in the repo in the `data` directory."
   ]
  },
  {
   "cell_type": "code",
   "execution_count": 4,
   "metadata": {},
   "outputs": [],
   "source": [
    "tweet_times = pd.read_csv(\n",
    "    \"data/202101-dates.txt\",\n",
    "    names=[\"utc_timestamp\"],\n",
    "    header=None,\n",
    "    parse_dates=[\"utc_timestamp\"],\n",
    ")"
   ]
  },
  {
   "cell_type": "markdown",
   "metadata": {},
   "source": [
    "Let's take a look at the DataFrame:"
   ]
  },
  {
   "cell_type": "code",
   "execution_count": 5,
   "metadata": {},
   "outputs": [
    {
     "data": {
      "text/html": [
       "<div>\n",
       "<style scoped>\n",
       "    .dataframe tbody tr th:only-of-type {\n",
       "        vertical-align: middle;\n",
       "    }\n",
       "\n",
       "    .dataframe tbody tr th {\n",
       "        vertical-align: top;\n",
       "    }\n",
       "\n",
       "    .dataframe thead th {\n",
       "        text-align: right;\n",
       "    }\n",
       "</style>\n",
       "<table border=\"1\" class=\"dataframe\">\n",
       "  <thead>\n",
       "    <tr style=\"text-align: right;\">\n",
       "      <th></th>\n",
       "      <th>utc_timestamp</th>\n",
       "    </tr>\n",
       "  </thead>\n",
       "  <tbody>\n",
       "    <tr>\n",
       "      <th>0</th>\n",
       "      <td>2021-01-01 05:00:52+00:00</td>\n",
       "    </tr>\n",
       "    <tr>\n",
       "      <th>1</th>\n",
       "      <td>2021-01-01 05:00:52+00:00</td>\n",
       "    </tr>\n",
       "    <tr>\n",
       "      <th>2</th>\n",
       "      <td>2021-01-01 05:00:51+00:00</td>\n",
       "    </tr>\n",
       "    <tr>\n",
       "      <th>3</th>\n",
       "      <td>2021-01-01 05:00:51+00:00</td>\n",
       "    </tr>\n",
       "    <tr>\n",
       "      <th>4</th>\n",
       "      <td>2021-01-01 05:00:51+00:00</td>\n",
       "    </tr>\n",
       "    <tr>\n",
       "      <th>...</th>\n",
       "      <td>...</td>\n",
       "    </tr>\n",
       "    <tr>\n",
       "      <th>5455425</th>\n",
       "      <td>2021-01-07 08:59:12+00:00</td>\n",
       "    </tr>\n",
       "    <tr>\n",
       "      <th>5455426</th>\n",
       "      <td>2021-01-07 08:53:59+00:00</td>\n",
       "    </tr>\n",
       "    <tr>\n",
       "      <th>5455427</th>\n",
       "      <td>2021-01-07 08:36:53+00:00</td>\n",
       "    </tr>\n",
       "    <tr>\n",
       "      <th>5455428</th>\n",
       "      <td>2021-01-07 08:24:48+00:00</td>\n",
       "    </tr>\n",
       "    <tr>\n",
       "      <th>5455429</th>\n",
       "      <td>2021-01-07 07:55:56+00:00</td>\n",
       "    </tr>\n",
       "  </tbody>\n",
       "</table>\n",
       "<p>5455430 rows × 1 columns</p>\n",
       "</div>"
      ],
      "text/plain": [
       "                    utc_timestamp\n",
       "0       2021-01-01 05:00:52+00:00\n",
       "1       2021-01-01 05:00:52+00:00\n",
       "2       2021-01-01 05:00:51+00:00\n",
       "3       2021-01-01 05:00:51+00:00\n",
       "4       2021-01-01 05:00:51+00:00\n",
       "...                           ...\n",
       "5455425 2021-01-07 08:59:12+00:00\n",
       "5455426 2021-01-07 08:53:59+00:00\n",
       "5455427 2021-01-07 08:36:53+00:00\n",
       "5455428 2021-01-07 08:24:48+00:00\n",
       "5455429 2021-01-07 07:55:56+00:00\n",
       "\n",
       "[5455430 rows x 1 columns]"
      ]
     },
     "execution_count": 5,
     "metadata": {},
     "output_type": "execute_result"
    }
   ],
   "source": [
    "tweet_times"
   ]
  },
  {
   "cell_type": "markdown",
   "metadata": {},
   "source": [
    "Next, we'll add a new column to our DataFrame which converts the `utc_timestamp` column to the date it corresponds to."
   ]
  },
  {
   "cell_type": "code",
   "execution_count": 7,
   "metadata": {},
   "outputs": [],
   "source": [
    "tweet_times[\"days\"] = tweet_times[\"utc_timestamp\"].apply(\n",
    "    lambda tweet_times: datetime.datetime(\n",
    "        year=tweet_times.year, month=tweet_times.month, day=tweet_times.day\n",
    "    )\n",
    ")"
   ]
  },
  {
   "cell_type": "markdown",
   "metadata": {},
   "source": [
    "Let's take a look at the DataFrame again to see the new column:"
   ]
  },
  {
   "cell_type": "code",
   "execution_count": 8,
   "metadata": {},
   "outputs": [
    {
     "data": {
      "text/html": [
       "<div>\n",
       "<style scoped>\n",
       "    .dataframe tbody tr th:only-of-type {\n",
       "        vertical-align: middle;\n",
       "    }\n",
       "\n",
       "    .dataframe tbody tr th {\n",
       "        vertical-align: top;\n",
       "    }\n",
       "\n",
       "    .dataframe thead th {\n",
       "        text-align: right;\n",
       "    }\n",
       "</style>\n",
       "<table border=\"1\" class=\"dataframe\">\n",
       "  <thead>\n",
       "    <tr style=\"text-align: right;\">\n",
       "      <th></th>\n",
       "      <th>utc_timestamp</th>\n",
       "      <th>days</th>\n",
       "    </tr>\n",
       "  </thead>\n",
       "  <tbody>\n",
       "    <tr>\n",
       "      <th>0</th>\n",
       "      <td>2021-01-01 05:00:52+00:00</td>\n",
       "      <td>2021-01-01</td>\n",
       "    </tr>\n",
       "    <tr>\n",
       "      <th>1</th>\n",
       "      <td>2021-01-01 05:00:52+00:00</td>\n",
       "      <td>2021-01-01</td>\n",
       "    </tr>\n",
       "    <tr>\n",
       "      <th>2</th>\n",
       "      <td>2021-01-01 05:00:51+00:00</td>\n",
       "      <td>2021-01-01</td>\n",
       "    </tr>\n",
       "    <tr>\n",
       "      <th>3</th>\n",
       "      <td>2021-01-01 05:00:51+00:00</td>\n",
       "      <td>2021-01-01</td>\n",
       "    </tr>\n",
       "    <tr>\n",
       "      <th>4</th>\n",
       "      <td>2021-01-01 05:00:51+00:00</td>\n",
       "      <td>2021-01-01</td>\n",
       "    </tr>\n",
       "    <tr>\n",
       "      <th>...</th>\n",
       "      <td>...</td>\n",
       "      <td>...</td>\n",
       "    </tr>\n",
       "    <tr>\n",
       "      <th>5455425</th>\n",
       "      <td>2021-01-07 08:59:12+00:00</td>\n",
       "      <td>2021-01-07</td>\n",
       "    </tr>\n",
       "    <tr>\n",
       "      <th>5455426</th>\n",
       "      <td>2021-01-07 08:53:59+00:00</td>\n",
       "      <td>2021-01-07</td>\n",
       "    </tr>\n",
       "    <tr>\n",
       "      <th>5455427</th>\n",
       "      <td>2021-01-07 08:36:53+00:00</td>\n",
       "      <td>2021-01-07</td>\n",
       "    </tr>\n",
       "    <tr>\n",
       "      <th>5455428</th>\n",
       "      <td>2021-01-07 08:24:48+00:00</td>\n",
       "      <td>2021-01-07</td>\n",
       "    </tr>\n",
       "    <tr>\n",
       "      <th>5455429</th>\n",
       "      <td>2021-01-07 07:55:56+00:00</td>\n",
       "      <td>2021-01-07</td>\n",
       "    </tr>\n",
       "  </tbody>\n",
       "</table>\n",
       "<p>5455430 rows × 2 columns</p>\n",
       "</div>"
      ],
      "text/plain": [
       "                    utc_timestamp       days\n",
       "0       2021-01-01 05:00:52+00:00 2021-01-01\n",
       "1       2021-01-01 05:00:52+00:00 2021-01-01\n",
       "2       2021-01-01 05:00:51+00:00 2021-01-01\n",
       "3       2021-01-01 05:00:51+00:00 2021-01-01\n",
       "4       2021-01-01 05:00:51+00:00 2021-01-01\n",
       "...                           ...        ...\n",
       "5455425 2021-01-07 08:59:12+00:00 2021-01-07\n",
       "5455426 2021-01-07 08:53:59+00:00 2021-01-07\n",
       "5455427 2021-01-07 08:36:53+00:00 2021-01-07\n",
       "5455428 2021-01-07 08:24:48+00:00 2021-01-07\n",
       "5455429 2021-01-07 07:55:56+00:00 2021-01-07\n",
       "\n",
       "[5455430 rows x 2 columns]"
      ]
     },
     "execution_count": 8,
     "metadata": {},
     "output_type": "execute_result"
    }
   ],
   "source": [
    "tweet_times"
   ]
  },
  {
   "cell_type": "markdown",
   "metadata": {},
   "source": [
    "Finally, let's create a bar chart, and make it look nice. We'll first format the x-axis dates, then create the chart, then add a title, labels, and the formated x-axis dates."
   ]
  },
  {
   "cell_type": "code",
   "execution_count": 13,
   "metadata": {},
   "outputs": [
    {
     "data": {
      "text/plain": [
       "[Text(0, 0, 'Dec 25'),\n",
       " Text(0, 0, 'Dec 26'),\n",
       " Text(0, 0, 'Dec 27'),\n",
       " Text(0, 0, 'Dec 28'),\n",
       " Text(0, 0, 'Dec 29'),\n",
       " Text(0, 0, 'Dec 30'),\n",
       " Text(0, 0, 'Dec 31'),\n",
       " Text(0, 0, 'Jan 01'),\n",
       " Text(0, 0, 'Jan 02'),\n",
       " Text(0, 0, 'Jan 03'),\n",
       " Text(0, 0, 'Jan 04'),\n",
       " Text(0, 0, 'Jan 05'),\n",
       " Text(0, 0, 'Jan 06'),\n",
       " Text(0, 0, 'Jan 07'),\n",
       " Text(0, 0, 'Jan 08'),\n",
       " Text(0, 0, 'Jan 09'),\n",
       " Text(0, 0, 'Jan 10'),\n",
       " Text(0, 0, 'Jan 11'),\n",
       " Text(0, 0, 'Jan 12'),\n",
       " Text(0, 0, 'Jan 13'),\n",
       " Text(0, 0, 'Jan 14')]"
      ]
     },
     "execution_count": 13,
     "metadata": {},
     "output_type": "execute_result"
    },
    {
     "data": {
      "image/png": "[encoded data removed]",
      "text/plain": [
       "<Figure size 2520x1440 with 1 Axes>"
      ]
     },
     "metadata": {
      "needs_background": "light"
     },
     "output_type": "display_data"
    }
   ],
   "source": [
    "nice_xaxis_labels = lambda x: datetime.datetime.strptime(\n",
    "    x, \"%Y-%m-%d %H:%M:%S\"\n",
    ").strftime(\"%b %d\")\n",
    "\n",
    "chart = (\n",
    "    tweet_times.groupby(tweet_times[\"days\"])\n",
    "    .count()\n",
    "    .plot.bar(figsize=(35, 20), legend=False)\n",
    ")\n",
    "\n",
    "chart.set_title(\"Tweets to @realDonaldTrump by day in early January 2021\", fontsize=50)\n",
    "chart.set_xlabel(\"Date\", fontsize=20)\n",
    "chart.set_ylabel(\"Count\", fontsize=20)\n",
    "chart.set_xticklabels(\n",
    "    [nice_xaxis_labels(x.get_text()) for x in chart.get_xticklabels()]\n",
    ")"
   ]
  }
 ],
 "metadata": {
  "kernelspec": {
   "display_name": "Python 3",
   "language": "python",
   "name": "python3"
  },
  "language_info": {
   "codemirror_mode": {
    "name": "ipython",
    "version": 3
   },
   "file_extension": ".py",
   "mimetype": "text/x-python",
   "name": "python",
   "nbconvert_exporter": "python",
   "pygments_lexer": "ipython3",
   "version": "3.7.6"
  }
 },
 "nbformat": 4,
 "nbformat_minor": 2
}
