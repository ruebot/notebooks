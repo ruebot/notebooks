{
 "cells": [
  {
   "cell_type": "markdown",
   "metadata": {},
   "source": [
    "# 🫡 tweet volume October 28, 2022 through February 19, 2023"
   ]
  },
  {
   "cell_type": "code",
   "execution_count": 1,
   "metadata": {},
   "outputs": [],
   "source": [
    "import altair as alt\n",
    "import pandas as pd"
   ]
  },
  {
   "cell_type": "code",
   "execution_count": 18,
   "metadata": {},
   "outputs": [],
   "source": [
    "df = pd.read_csv(\n",
    "    \"data/saluting-face-2022-10-28-2023-02-19-tweet-times.txt\",\n",
    "    names=[\"utc_timestamp\"],\n",
    "    header=None,\n",
    "    parse_dates=[\"utc_timestamp\"],\n",
    ")"
   ]
  },
  {
   "cell_type": "code",
   "execution_count": 19,
   "metadata": {},
   "outputs": [
    {
     "name": "stderr",
     "output_type": "stream",
     "text": [
      "/home/nruest/.pyenv/versions/3.9.9/lib/python3.9/site-packages/pandas/core/arrays/datetimes.py:1143: UserWarning: Converting to PeriodArray/Index representation will drop timezone information.\n",
      "  warnings.warn(\n"
     ]
    }
   ],
   "source": [
    "df[\"days\"] = df[\"utc_timestamp\"].dt.to_period(\"D\")"
   ]
  },
  {
   "cell_type": "code",
   "execution_count": 20,
   "metadata": {},
   "outputs": [
    {
     "data": {
      "text/html": [
       "<div>\n",
       "<style scoped>\n",
       "    .dataframe tbody tr th:only-of-type {\n",
       "        vertical-align: middle;\n",
       "    }\n",
       "\n",
       "    .dataframe tbody tr th {\n",
       "        vertical-align: top;\n",
       "    }\n",
       "\n",
       "    .dataframe thead th {\n",
       "        text-align: right;\n",
       "    }\n",
       "</style>\n",
       "<table border=\"1\" class=\"dataframe\">\n",
       "  <thead>\n",
       "    <tr style=\"text-align: right;\">\n",
       "      <th></th>\n",
       "      <th>utc_timestamp</th>\n",
       "      <th>days</th>\n",
       "    </tr>\n",
       "  </thead>\n",
       "  <tbody>\n",
       "    <tr>\n",
       "      <th>0</th>\n",
       "      <td>2022-10-30 23:59:59+00:00</td>\n",
       "      <td>2022-10-30</td>\n",
       "    </tr>\n",
       "    <tr>\n",
       "      <th>1</th>\n",
       "      <td>2022-10-30 23:59:58+00:00</td>\n",
       "      <td>2022-10-30</td>\n",
       "    </tr>\n",
       "    <tr>\n",
       "      <th>2</th>\n",
       "      <td>2022-10-30 23:59:58+00:00</td>\n",
       "      <td>2022-10-30</td>\n",
       "    </tr>\n",
       "    <tr>\n",
       "      <th>3</th>\n",
       "      <td>2022-10-30 23:59:57+00:00</td>\n",
       "      <td>2022-10-30</td>\n",
       "    </tr>\n",
       "    <tr>\n",
       "      <th>4</th>\n",
       "      <td>2022-10-30 23:59:57+00:00</td>\n",
       "      <td>2022-10-30</td>\n",
       "    </tr>\n",
       "  </tbody>\n",
       "</table>\n",
       "</div>"
      ],
      "text/plain": [
       "              utc_timestamp        days\n",
       "0 2022-10-30 23:59:59+00:00  2022-10-30\n",
       "1 2022-10-30 23:59:58+00:00  2022-10-30\n",
       "2 2022-10-30 23:59:58+00:00  2022-10-30\n",
       "3 2022-10-30 23:59:57+00:00  2022-10-30\n",
       "4 2022-10-30 23:59:57+00:00  2022-10-30"
      ]
     },
     "execution_count": 20,
     "metadata": {},
     "output_type": "execute_result"
    }
   ],
   "source": [
    "df.head()"
   ]
  },
  {
   "cell_type": "code",
   "execution_count": 21,
   "metadata": {},
   "outputs": [],
   "source": [
    "data = (\n",
    "    df.groupby(df[\"days\"], as_index=False)\n",
    "    .count()\n",
    "    .rename(columns={\"days\": \"Date\", \"utc_timestamp\": \"Tweets\"})\n",
    ")"
   ]
  },
  {
   "cell_type": "code",
   "execution_count": 22,
   "metadata": {},
   "outputs": [
    {
     "data": {
      "text/html": [
       "<div>\n",
       "<style scoped>\n",
       "    .dataframe tbody tr th:only-of-type {\n",
       "        vertical-align: middle;\n",
       "    }\n",
       "\n",
       "    .dataframe tbody tr th {\n",
       "        vertical-align: top;\n",
       "    }\n",
       "\n",
       "    .dataframe thead th {\n",
       "        text-align: right;\n",
       "    }\n",
       "</style>\n",
       "<table border=\"1\" class=\"dataframe\">\n",
       "  <thead>\n",
       "    <tr style=\"text-align: right;\">\n",
       "      <th></th>\n",
       "      <th>Date</th>\n",
       "      <th>Tweets</th>\n",
       "    </tr>\n",
       "  </thead>\n",
       "  <tbody>\n",
       "    <tr>\n",
       "      <th>0</th>\n",
       "      <td>2022-10-28</td>\n",
       "      <td>170137</td>\n",
       "    </tr>\n",
       "    <tr>\n",
       "      <th>1</th>\n",
       "      <td>2022-10-29</td>\n",
       "      <td>158057</td>\n",
       "    </tr>\n",
       "    <tr>\n",
       "      <th>2</th>\n",
       "      <td>2022-10-30</td>\n",
       "      <td>155551</td>\n",
       "    </tr>\n",
       "    <tr>\n",
       "      <th>3</th>\n",
       "      <td>2022-11-01</td>\n",
       "      <td>195660</td>\n",
       "    </tr>\n",
       "    <tr>\n",
       "      <th>4</th>\n",
       "      <td>2022-11-02</td>\n",
       "      <td>196395</td>\n",
       "    </tr>\n",
       "  </tbody>\n",
       "</table>\n",
       "</div>"
      ],
      "text/plain": [
       "         Date  Tweets\n",
       "0  2022-10-28  170137\n",
       "1  2022-10-29  158057\n",
       "2  2022-10-30  155551\n",
       "3  2022-11-01  195660\n",
       "4  2022-11-02  196395"
      ]
     },
     "execution_count": 22,
     "metadata": {},
     "output_type": "execute_result"
    }
   ],
   "source": [
    "data.head()"
   ]
  },
  {
   "cell_type": "code",
   "execution_count": 23,
   "metadata": {},
   "outputs": [],
   "source": [
    "data[\"Date\"] = data[\"Date\"].astype(str)"
   ]
  },
  {
   "cell_type": "code",
   "execution_count": 24,
   "metadata": {},
   "outputs": [
    {
     "data": {
      "text/html": [
       "<div>\n",
       "<style scoped>\n",
       "    .dataframe tbody tr th:only-of-type {\n",
       "        vertical-align: middle;\n",
       "    }\n",
       "\n",
       "    .dataframe tbody tr th {\n",
       "        vertical-align: top;\n",
       "    }\n",
       "\n",
       "    .dataframe thead th {\n",
       "        text-align: right;\n",
       "    }\n",
       "</style>\n",
       "<table border=\"1\" class=\"dataframe\">\n",
       "  <thead>\n",
       "    <tr style=\"text-align: right;\">\n",
       "      <th></th>\n",
       "      <th>Date</th>\n",
       "      <th>Tweets</th>\n",
       "    </tr>\n",
       "  </thead>\n",
       "  <tbody>\n",
       "    <tr>\n",
       "      <th>0</th>\n",
       "      <td>2022-10-28</td>\n",
       "      <td>170137</td>\n",
       "    </tr>\n",
       "    <tr>\n",
       "      <th>1</th>\n",
       "      <td>2022-10-29</td>\n",
       "      <td>158057</td>\n",
       "    </tr>\n",
       "    <tr>\n",
       "      <th>2</th>\n",
       "      <td>2022-10-30</td>\n",
       "      <td>155551</td>\n",
       "    </tr>\n",
       "    <tr>\n",
       "      <th>3</th>\n",
       "      <td>2022-11-01</td>\n",
       "      <td>195660</td>\n",
       "    </tr>\n",
       "    <tr>\n",
       "      <th>4</th>\n",
       "      <td>2022-11-02</td>\n",
       "      <td>196395</td>\n",
       "    </tr>\n",
       "    <tr>\n",
       "      <th>...</th>\n",
       "      <td>...</td>\n",
       "      <td>...</td>\n",
       "    </tr>\n",
       "    <tr>\n",
       "      <th>104</th>\n",
       "      <td>2023-02-14</td>\n",
       "      <td>231153</td>\n",
       "    </tr>\n",
       "    <tr>\n",
       "      <th>105</th>\n",
       "      <td>2023-02-15</td>\n",
       "      <td>212517</td>\n",
       "    </tr>\n",
       "    <tr>\n",
       "      <th>106</th>\n",
       "      <td>2023-02-16</td>\n",
       "      <td>217280</td>\n",
       "    </tr>\n",
       "    <tr>\n",
       "      <th>107</th>\n",
       "      <td>2023-02-17</td>\n",
       "      <td>218877</td>\n",
       "    </tr>\n",
       "    <tr>\n",
       "      <th>108</th>\n",
       "      <td>2023-02-18</td>\n",
       "      <td>203115</td>\n",
       "    </tr>\n",
       "  </tbody>\n",
       "</table>\n",
       "<p>109 rows × 2 columns</p>\n",
       "</div>"
      ],
      "text/plain": [
       "           Date  Tweets\n",
       "0    2022-10-28  170137\n",
       "1    2022-10-29  158057\n",
       "2    2022-10-30  155551\n",
       "3    2022-11-01  195660\n",
       "4    2022-11-02  196395\n",
       "..          ...     ...\n",
       "104  2023-02-14  231153\n",
       "105  2023-02-15  212517\n",
       "106  2023-02-16  217280\n",
       "107  2023-02-17  218877\n",
       "108  2023-02-18  203115\n",
       "\n",
       "[109 rows x 2 columns]"
      ]
     },
     "execution_count": 24,
     "metadata": {},
     "output_type": "execute_result"
    }
   ],
   "source": [
    "data"
   ]
  },
  {
   "cell_type": "code",
   "execution_count": 27,
   "metadata": {},
   "outputs": [
    {
     "data": {
      "text/html": [
       "\n",
       "<div id=\"altair-viz-e733e56556c548b396c02e27d30101d8\"></div>\n",
       "<script type=\"text/javascript\">\n",
       "  var VEGA_DEBUG = (typeof VEGA_DEBUG == \"undefined\") ? {} : VEGA_DEBUG;\n",
       "  (function(spec, embedOpt){\n",
       "    let outputDiv = document.currentScript.previousElementSibling;\n",
       "    if (outputDiv.id !== \"altair-viz-e733e56556c548b396c02e27d30101d8\") {\n",
       "      outputDiv = document.getElementById(\"altair-viz-e733e56556c548b396c02e27d30101d8\");\n",
       "    }\n",
       "    const paths = {\n",
       "      \"vega\": \"https://cdn.jsdelivr.net/npm//vega@5?noext\",\n",
       "      \"vega-lib\": \"https://cdn.jsdelivr.net/npm//vega-lib?noext\",\n",
       "      \"vega-lite\": \"https://cdn.jsdelivr.net/npm//vega-lite@4.17.0?noext\",\n",
       "      \"vega-embed\": \"https://cdn.jsdelivr.net/npm//vega-embed@6?noext\",\n",
       "    };\n",
       "\n",
       "    function maybeLoadScript(lib, version) {\n",
       "      var key = `${lib.replace(\"-\", \"\")}_version`;\n",
       "      return (VEGA_DEBUG[key] == version) ?\n",
       "        Promise.resolve(paths[lib]) :\n",
       "        new Promise(function(resolve, reject) {\n",
       "          var s = document.createElement('script');\n",
       "          document.getElementsByTagName(\"head\")[0].appendChild(s);\n",
       "          s.async = true;\n",
       "          s.onload = () => {\n",
       "            VEGA_DEBUG[key] = version;\n",
       "            return resolve(paths[lib]);\n",
       "          };\n",
       "          s.onerror = () => reject(`Error loading script: ${paths[lib]}`);\n",
       "          s.src = paths[lib];\n",
       "        });\n",
       "    }\n",
       "\n",
       "    function showError(err) {\n",
       "      outputDiv.innerHTML = `<div class=\"error\" style=\"color:red;\">${err}</div>`;\n",
       "      throw err;\n",
       "    }\n",
       "\n",
       "    function displayChart(vegaEmbed) {\n",
       "      vegaEmbed(outputDiv, spec, embedOpt)\n",
       "        .catch(err => showError(`Javascript Error: ${err.message}<br>This usually means there's a typo in your chart specification. See the javascript console for the full traceback.`));\n",
       "    }\n",
       "\n",
       "    if(typeof define === \"function\" && define.amd) {\n",
       "      requirejs.config({paths});\n",
       "      require([\"vega-embed\"], displayChart, err => showError(`Error loading script: ${err.message}`));\n",
       "    } else {\n",
       "      maybeLoadScript(\"vega\", \"5\")\n",
       "        .then(() => maybeLoadScript(\"vega-lite\", \"4.17.0\"))\n",
       "        .then(() => maybeLoadScript(\"vega-embed\", \"6\"))\n",
       "        .catch(showError)\n",
       "        .then(() => displayChart(vegaEmbed));\n",
       "    }\n",
       "  })({\"config\": {\"view\": {\"continuousWidth\": 400, \"continuousHeight\": 300}, \"title\": {\"align\": \"center\", \"color\": \"black\", \"dy\": -3, \"font\": \"Verdana\", \"fontSize\": 30}}, \"layer\": [{\"mark\": \"bar\", \"encoding\": {\"color\": {\"condition\": {\"value\": \"#ee4784\", \"test\": {\"field\": \"Date\", \"oneOf\": [\"2022-11-05\", \"2022-11-10\", \"2022-11-16\", \"2022-11-17\", \"2022-11-18\", \"2022-11-19\", \"2022-11-03\"]}}, \"value\": \"#3d52a8\"}, \"x\": {\"field\": \"Tweets\", \"type\": \"quantitative\"}, \"y\": {\"field\": \"Date\", \"type\": \"ordinal\"}}}, {\"mark\": {\"type\": \"text\", \"align\": \"left\", \"baseline\": \"middle\", \"dx\": 3}, \"encoding\": {\"color\": {\"condition\": {\"value\": \"#ee4784\", \"test\": {\"field\": \"Date\", \"oneOf\": [\"2022-11-05\", \"2022-11-10\", \"2022-11-16\", \"2022-11-17\", \"2022-11-18\", \"2022-11-19\", \"2022-11-03\"]}}, \"value\": \"#3d52a8\"}, \"text\": {\"field\": \"Tweets\", \"type\": \"quantitative\"}, \"x\": {\"field\": \"Tweets\", \"type\": \"quantitative\"}, \"y\": {\"field\": \"Date\", \"type\": \"ordinal\"}}}], \"data\": {\"name\": \"data-3c2f0426f846d33088bed974d6026507\"}, \"height\": 2200, \"title\": \"\\ud83e\\udee1 tweet volume October 28, 2022 through February 19, 2023\", \"width\": 1500, \"$schema\": \"https://vega.github.io/schema/vega-lite/v4.17.0.json\", \"datasets\": {\"data-3c2f0426f846d33088bed974d6026507\": [{\"Date\": \"2022-10-28\", \"Tweets\": 170137}, {\"Date\": \"2022-10-29\", \"Tweets\": 158057}, {\"Date\": \"2022-10-30\", \"Tweets\": 155551}, {\"Date\": \"2022-11-01\", \"Tweets\": 195660}, {\"Date\": \"2022-11-02\", \"Tweets\": 196395}, {\"Date\": \"2022-11-03\", \"Tweets\": 196046}, {\"Date\": \"2022-11-04\", \"Tweets\": 201688}, {\"Date\": \"2022-11-05\", \"Tweets\": 223113}, {\"Date\": \"2022-11-06\", \"Tweets\": 219364}, {\"Date\": \"2022-11-07\", \"Tweets\": 185830}, {\"Date\": \"2022-11-08\", \"Tweets\": 195830}, {\"Date\": \"2022-11-09\", \"Tweets\": 211613}, {\"Date\": \"2022-11-10\", \"Tweets\": 203117}, {\"Date\": \"2022-11-11\", \"Tweets\": 215160}, {\"Date\": \"2022-11-12\", \"Tweets\": 202360}, {\"Date\": \"2022-11-13\", \"Tweets\": 206500}, {\"Date\": \"2022-11-14\", \"Tweets\": 201058}, {\"Date\": \"2022-11-16\", \"Tweets\": 184722}, {\"Date\": \"2022-11-17\", \"Tweets\": 188311}, {\"Date\": \"2022-11-19\", \"Tweets\": 209361}, {\"Date\": \"2022-11-20\", \"Tweets\": 201751}, {\"Date\": \"2022-11-21\", \"Tweets\": 220096}, {\"Date\": \"2022-11-22\", \"Tweets\": 234435}, {\"Date\": \"2022-11-23\", \"Tweets\": 212583}, {\"Date\": \"2022-11-24\", \"Tweets\": 207889}, {\"Date\": \"2022-11-25\", \"Tweets\": 174316}, {\"Date\": \"2022-11-26\", \"Tweets\": 181720}, {\"Date\": \"2022-11-27\", \"Tweets\": 180714}, {\"Date\": \"2022-11-28\", \"Tweets\": 201726}, {\"Date\": \"2022-11-29\", \"Tweets\": 192479}, {\"Date\": \"2022-11-30\", \"Tweets\": 210312}, {\"Date\": \"2022-12-01\", \"Tweets\": 191232}, {\"Date\": \"2022-12-02\", \"Tweets\": 211149}, {\"Date\": \"2022-12-03\", \"Tweets\": 194300}, {\"Date\": \"2022-12-04\", \"Tweets\": 209076}, {\"Date\": \"2022-12-05\", \"Tweets\": 195951}, {\"Date\": \"2022-12-06\", \"Tweets\": 187634}, {\"Date\": \"2022-12-07\", \"Tweets\": 200464}, {\"Date\": \"2022-12-08\", \"Tweets\": 252755}, {\"Date\": \"2022-12-09\", \"Tweets\": 212285}, {\"Date\": \"2022-12-10\", \"Tweets\": 220026}, {\"Date\": \"2022-12-11\", \"Tweets\": 199587}, {\"Date\": \"2022-12-12\", \"Tweets\": 192447}, {\"Date\": \"2022-12-13\", \"Tweets\": 273666}, {\"Date\": \"2022-12-14\", \"Tweets\": 210705}, {\"Date\": \"2022-12-15\", \"Tweets\": 335813}, {\"Date\": \"2022-12-16\", \"Tweets\": 214650}, {\"Date\": \"2022-12-17\", \"Tweets\": 189564}, {\"Date\": \"2022-12-18\", \"Tweets\": 283737}, {\"Date\": \"2022-12-19\", \"Tweets\": 225085}, {\"Date\": \"2022-12-20\", \"Tweets\": 188722}, {\"Date\": \"2022-12-21\", \"Tweets\": 193747}, {\"Date\": \"2022-12-22\", \"Tweets\": 202341}, {\"Date\": \"2022-12-23\", \"Tweets\": 196229}, {\"Date\": \"2022-12-24\", \"Tweets\": 179303}, {\"Date\": \"2022-12-25\", \"Tweets\": 167702}, {\"Date\": \"2022-12-26\", \"Tweets\": 166826}, {\"Date\": \"2022-12-27\", \"Tweets\": 185041}, {\"Date\": \"2022-12-28\", \"Tweets\": 192801}, {\"Date\": \"2022-12-29\", \"Tweets\": 193239}, {\"Date\": \"2022-12-30\", \"Tweets\": 212080}, {\"Date\": \"2023-01-01\", \"Tweets\": 203757}, {\"Date\": \"2023-01-02\", \"Tweets\": 193346}, {\"Date\": \"2023-01-03\", \"Tweets\": 197926}, {\"Date\": \"2023-01-04\", \"Tweets\": 203654}, {\"Date\": \"2023-01-05\", \"Tweets\": 195703}, {\"Date\": \"2023-01-06\", \"Tweets\": 201382}, {\"Date\": \"2023-01-08\", \"Tweets\": 281009}, {\"Date\": \"2023-01-09\", \"Tweets\": 215402}, {\"Date\": \"2023-01-10\", \"Tweets\": 206102}, {\"Date\": \"2023-01-11\", \"Tweets\": 228344}, {\"Date\": \"2023-01-12\", \"Tweets\": 210821}, {\"Date\": \"2023-01-13\", \"Tweets\": 245943}, {\"Date\": \"2023-01-14\", \"Tweets\": 218841}, {\"Date\": \"2023-01-15\", \"Tweets\": 206276}, {\"Date\": \"2023-01-16\", \"Tweets\": 208949}, {\"Date\": \"2023-01-17\", \"Tweets\": 211149}, {\"Date\": \"2023-01-18\", \"Tweets\": 222989}, {\"Date\": \"2023-01-19\", \"Tweets\": 209452}, {\"Date\": \"2023-01-20\", \"Tweets\": 223923}, {\"Date\": \"2023-01-21\", \"Tweets\": 207736}, {\"Date\": \"2023-01-22\", \"Tweets\": 214296}, {\"Date\": \"2023-01-23\", \"Tweets\": 200460}, {\"Date\": \"2023-01-24\", \"Tweets\": 216864}, {\"Date\": \"2023-01-25\", \"Tweets\": 215153}, {\"Date\": \"2023-01-26\", \"Tweets\": 217178}, {\"Date\": \"2023-01-27\", \"Tweets\": 215377}, {\"Date\": \"2023-01-28\", \"Tweets\": 210317}, {\"Date\": \"2023-01-29\", \"Tweets\": 219195}, {\"Date\": \"2023-01-30\", \"Tweets\": 220232}, {\"Date\": \"2023-01-31\", \"Tweets\": 217380}, {\"Date\": \"2023-02-01\", \"Tweets\": 239303}, {\"Date\": \"2023-02-02\", \"Tweets\": 232647}, {\"Date\": \"2023-02-03\", \"Tweets\": 234559}, {\"Date\": \"2023-02-04\", \"Tweets\": 216222}, {\"Date\": \"2023-02-05\", \"Tweets\": 216629}, {\"Date\": \"2023-02-06\", \"Tweets\": 207441}, {\"Date\": \"2023-02-07\", \"Tweets\": 215764}, {\"Date\": \"2023-02-08\", \"Tweets\": 257690}, {\"Date\": \"2023-02-09\", \"Tweets\": 237705}, {\"Date\": \"2023-02-10\", \"Tweets\": 238230}, {\"Date\": \"2023-02-11\", \"Tweets\": 222284}, {\"Date\": \"2023-02-12\", \"Tweets\": 237458}, {\"Date\": \"2023-02-13\", \"Tweets\": 225166}, {\"Date\": \"2023-02-14\", \"Tweets\": 231153}, {\"Date\": \"2023-02-15\", \"Tweets\": 212517}, {\"Date\": \"2023-02-16\", \"Tweets\": 217280}, {\"Date\": \"2023-02-17\", \"Tweets\": 218877}, {\"Date\": \"2023-02-18\", \"Tweets\": 203115}]}}, {\"mode\": \"vega-lite\"});\n",
       "</script>"
      ],
      "text/plain": [
       "alt.LayerChart(...)"
      ]
     },
     "execution_count": 27,
     "metadata": {},
     "output_type": "execute_result"
    }
   ],
   "source": [
    "chart = alt.Chart(data).mark_bar().encode(\n",
    "               x=alt.X(\"Tweets:Q\"),\n",
    "               y=alt.Y(\"Date:O\"),\n",
    "               color=alt.condition(\n",
    "                 alt.FieldOneOfPredicate('Date', ['2022-11-05', '2022-11-10', '2022-11-16', '2022-11-17', '2022-11-18', '2022-11-19', '2022-11-03']),\n",
    "                 alt.value('#ee4784'),     \n",
    "                 alt.value('#3d52a8')\n",
    "               )\n",
    "           )\n",
    "\n",
    "chart_text = chart.mark_text(align=\"left\", baseline=\"middle\", dx=3).encode(\n",
    "     text=\"Tweets:Q\"\n",
    ")\n",
    "\n",
    "(chart + chart_text).properties(\n",
    "    width=1500,\n",
    "    height=2200,\n",
    "    title=\"🫡 tweet volume October 28, 2022 through February 19, 2023\",\n",
    ").configure_title(fontSize=30, font=\"Verdana\", align=\"center\", color=\"black\", dy=-3)"
   ]
  }
 ],
 "metadata": {
  "kernelspec": {
   "display_name": "Python 3 (ipykernel)",
   "language": "python",
   "name": "python3"
  },
  "language_info": {
   "codemirror_mode": {
    "name": "ipython",
    "version": 3
   },
   "file_extension": ".py",
   "mimetype": "text/x-python",
   "name": "python",
   "nbconvert_exporter": "python",
   "pygments_lexer": "ipython3",
   "version": "3.9.9"
  }
 },
 "nbformat": 4,
 "nbformat_minor": 4
}
